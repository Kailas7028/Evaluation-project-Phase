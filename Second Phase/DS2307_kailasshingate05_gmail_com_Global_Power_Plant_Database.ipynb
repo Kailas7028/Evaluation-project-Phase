{
  "nbformat": 4,
  "nbformat_minor": 0,
  "metadata": {
    "colab": {
      "provenance": []
    },
    "kernelspec": {
      "name": "python3",
      "display_name": "Python 3"
    },
    "language_info": {
      "name": "python"
    }
  },
  "cells": [
    {
      "cell_type": "code",
      "execution_count": 453,
      "metadata": {
        "id": "dB3vPRwkvi8r"
      },
      "outputs": [],
      "source": [
        "#importing necessary libraries\n",
        "import pandas as pd\n",
        "import numpy as np\n",
        "import matplotlib.pyplot as plt\n",
        "import seaborn as sns\n",
        "from sklearn.preprocessing import LabelEncoder,StandardScaler,PowerTransformer\n",
        "from sklearn.linear_model import LinearRegression,LogisticRegression\n",
        "from sklearn.neighbors import KNeighborsClassifier,KNeighborsRegressor\n",
        "from sklearn.svm import SVR,SVC\n",
        "from sklearn.tree import DecisionTreeRegressor,DecisionTreeClassifier\n",
        "from sklearn.ensemble import RandomForestClassifier,RandomForestRegressor,AdaBoostClassifier,AdaBoostRegressor,GradientBoostingClassifier,GradientBoostingRegressor\n",
        "from xgboost import XGBClassifier,XGBRegressor\n",
        "from sklearn.model_selection import train_test_split,cross_val_score,GridSearchCV\n",
        "from statsmodels.stats.outliers_influence import variance_inflation_factor\n",
        "from sklearn.metrics import r2_score,accuracy_score,confusion_matrix\n",
        "from sklearn.feature_selection import SelectKBest,f_classif\n",
        "from scipy.stats import zscore\n",
        "from sklearn.impute import KNNImputer\n",
        "from imblearn.over_sampling import SMOTE\n",
        "import warnings\n",
        "warnings.filterwarnings('ignore')\n"
      ]
    },
    {
      "cell_type": "code",
      "source": [
        "#loading data\n",
        "df=pd.read_csv('https://raw.githubusercontent.com/wri/global-power-plant-database/master/source_databases_csv/database_IND.csv')\n",
        "df[df.columns[:13]]"
      ],
      "metadata": {
        "colab": {
          "base_uri": "https://localhost:8080/",
          "height": 580
        },
        "id": "Jf392upDwqXn",
        "outputId": "1b50fda3-9323-4f3a-98a7-4104d95efec4"
      },
      "execution_count": 454,
      "outputs": [
        {
          "output_type": "execute_result",
          "data": {
            "text/plain": [
              "    country country_long                          name   gppd_idnr  \\\n",
              "0       IND        India              ACME Solar Tower  WRI1020239   \n",
              "1       IND        India           ADITYA CEMENT WORKS  WRI1019881   \n",
              "2       IND        India      AES Saurashtra Windfarms  WRI1026669   \n",
              "3       IND        India                   AGARTALA GT  IND0000001   \n",
              "4       IND        India                  AKALTARA TPP  IND0000002   \n",
              "..      ...          ...                           ...         ...   \n",
              "902     IND        India                  YERMARUS TPP  IND0000513   \n",
              "903     IND        India  Yelesandra Solar Power Plant  WRI1026222   \n",
              "904     IND        India  Yelisirur wind power project  WRI1026776   \n",
              "905     IND        India                   ZAWAR MINES  WRI1019901   \n",
              "906     IND        India       iEnergy Theni Wind Farm  WRI1026761   \n",
              "\n",
              "     capacity_mw  latitude  longitude primary_fuel other_fuel1 other_fuel2  \\\n",
              "0            2.5   28.1839    73.2407        Solar         NaN         NaN   \n",
              "1           98.0   24.7663    74.6090         Coal         NaN         NaN   \n",
              "2           39.2   21.9038    69.3732         Wind         NaN         NaN   \n",
              "3          135.0   23.8712    91.3602          Gas         NaN         NaN   \n",
              "4         1800.0   21.9603    82.4091         Coal         Oil         NaN   \n",
              "..           ...       ...        ...          ...         ...         ...   \n",
              "902       1600.0   16.2949    77.3568         Coal         Oil         NaN   \n",
              "903          3.0   12.8932    78.1654        Solar         NaN         NaN   \n",
              "904         25.5   15.2758    75.5811         Wind         NaN         NaN   \n",
              "905         80.0   24.3500    73.7477         Coal         NaN         NaN   \n",
              "906         16.5    9.9344    77.4768         Wind         NaN         NaN   \n",
              "\n",
              "     other_fuel3  commissioning_year                                owner  \n",
              "0            NaN              2011.0                          Solar Paces  \n",
              "1            NaN                 NaN                 Ultratech Cement ltd  \n",
              "2            NaN                 NaN                                  AES  \n",
              "3            NaN              2004.0                                  NaN  \n",
              "4            NaN              2015.0                                  NaN  \n",
              "..           ...                 ...                                  ...  \n",
              "902          NaN              2016.0                                  NaN  \n",
              "903          NaN                 NaN  Karnataka Power Corporation Limited  \n",
              "904          NaN                 NaN                                  NaN  \n",
              "905          NaN                 NaN                   Hindustan Zinc ltd  \n",
              "906          NaN                 NaN                   iEnergy Wind Farms  \n",
              "\n",
              "[907 rows x 13 columns]"
            ],
            "text/html": [
              "\n",
              "  <div id=\"df-9de6e226-d147-46c4-8d7a-c5866d825192\" class=\"colab-df-container\">\n",
              "    <div>\n",
              "<style scoped>\n",
              "    .dataframe tbody tr th:only-of-type {\n",
              "        vertical-align: middle;\n",
              "    }\n",
              "\n",
              "    .dataframe tbody tr th {\n",
              "        vertical-align: top;\n",
              "    }\n",
              "\n",
              "    .dataframe thead th {\n",
              "        text-align: right;\n",
              "    }\n",
              "</style>\n",
              "<table border=\"1\" class=\"dataframe\">\n",
              "  <thead>\n",
              "    <tr style=\"text-align: right;\">\n",
              "      <th></th>\n",
              "      <th>country</th>\n",
              "      <th>country_long</th>\n",
              "      <th>name</th>\n",
              "      <th>gppd_idnr</th>\n",
              "      <th>capacity_mw</th>\n",
              "      <th>latitude</th>\n",
              "      <th>longitude</th>\n",
              "      <th>primary_fuel</th>\n",
              "      <th>other_fuel1</th>\n",
              "      <th>other_fuel2</th>\n",
              "      <th>other_fuel3</th>\n",
              "      <th>commissioning_year</th>\n",
              "      <th>owner</th>\n",
              "    </tr>\n",
              "  </thead>\n",
              "  <tbody>\n",
              "    <tr>\n",
              "      <th>0</th>\n",
              "      <td>IND</td>\n",
              "      <td>India</td>\n",
              "      <td>ACME Solar Tower</td>\n",
              "      <td>WRI1020239</td>\n",
              "      <td>2.5</td>\n",
              "      <td>28.1839</td>\n",
              "      <td>73.2407</td>\n",
              "      <td>Solar</td>\n",
              "      <td>NaN</td>\n",
              "      <td>NaN</td>\n",
              "      <td>NaN</td>\n",
              "      <td>2011.0</td>\n",
              "      <td>Solar Paces</td>\n",
              "    </tr>\n",
              "    <tr>\n",
              "      <th>1</th>\n",
              "      <td>IND</td>\n",
              "      <td>India</td>\n",
              "      <td>ADITYA CEMENT WORKS</td>\n",
              "      <td>WRI1019881</td>\n",
              "      <td>98.0</td>\n",
              "      <td>24.7663</td>\n",
              "      <td>74.6090</td>\n",
              "      <td>Coal</td>\n",
              "      <td>NaN</td>\n",
              "      <td>NaN</td>\n",
              "      <td>NaN</td>\n",
              "      <td>NaN</td>\n",
              "      <td>Ultratech Cement ltd</td>\n",
              "    </tr>\n",
              "    <tr>\n",
              "      <th>2</th>\n",
              "      <td>IND</td>\n",
              "      <td>India</td>\n",
              "      <td>AES Saurashtra Windfarms</td>\n",
              "      <td>WRI1026669</td>\n",
              "      <td>39.2</td>\n",
              "      <td>21.9038</td>\n",
              "      <td>69.3732</td>\n",
              "      <td>Wind</td>\n",
              "      <td>NaN</td>\n",
              "      <td>NaN</td>\n",
              "      <td>NaN</td>\n",
              "      <td>NaN</td>\n",
              "      <td>AES</td>\n",
              "    </tr>\n",
              "    <tr>\n",
              "      <th>3</th>\n",
              "      <td>IND</td>\n",
              "      <td>India</td>\n",
              "      <td>AGARTALA GT</td>\n",
              "      <td>IND0000001</td>\n",
              "      <td>135.0</td>\n",
              "      <td>23.8712</td>\n",
              "      <td>91.3602</td>\n",
              "      <td>Gas</td>\n",
              "      <td>NaN</td>\n",
              "      <td>NaN</td>\n",
              "      <td>NaN</td>\n",
              "      <td>2004.0</td>\n",
              "      <td>NaN</td>\n",
              "    </tr>\n",
              "    <tr>\n",
              "      <th>4</th>\n",
              "      <td>IND</td>\n",
              "      <td>India</td>\n",
              "      <td>AKALTARA TPP</td>\n",
              "      <td>IND0000002</td>\n",
              "      <td>1800.0</td>\n",
              "      <td>21.9603</td>\n",
              "      <td>82.4091</td>\n",
              "      <td>Coal</td>\n",
              "      <td>Oil</td>\n",
              "      <td>NaN</td>\n",
              "      <td>NaN</td>\n",
              "      <td>2015.0</td>\n",
              "      <td>NaN</td>\n",
              "    </tr>\n",
              "    <tr>\n",
              "      <th>...</th>\n",
              "      <td>...</td>\n",
              "      <td>...</td>\n",
              "      <td>...</td>\n",
              "      <td>...</td>\n",
              "      <td>...</td>\n",
              "      <td>...</td>\n",
              "      <td>...</td>\n",
              "      <td>...</td>\n",
              "      <td>...</td>\n",
              "      <td>...</td>\n",
              "      <td>...</td>\n",
              "      <td>...</td>\n",
              "      <td>...</td>\n",
              "    </tr>\n",
              "    <tr>\n",
              "      <th>902</th>\n",
              "      <td>IND</td>\n",
              "      <td>India</td>\n",
              "      <td>YERMARUS TPP</td>\n",
              "      <td>IND0000513</td>\n",
              "      <td>1600.0</td>\n",
              "      <td>16.2949</td>\n",
              "      <td>77.3568</td>\n",
              "      <td>Coal</td>\n",
              "      <td>Oil</td>\n",
              "      <td>NaN</td>\n",
              "      <td>NaN</td>\n",
              "      <td>2016.0</td>\n",
              "      <td>NaN</td>\n",
              "    </tr>\n",
              "    <tr>\n",
              "      <th>903</th>\n",
              "      <td>IND</td>\n",
              "      <td>India</td>\n",
              "      <td>Yelesandra Solar Power Plant</td>\n",
              "      <td>WRI1026222</td>\n",
              "      <td>3.0</td>\n",
              "      <td>12.8932</td>\n",
              "      <td>78.1654</td>\n",
              "      <td>Solar</td>\n",
              "      <td>NaN</td>\n",
              "      <td>NaN</td>\n",
              "      <td>NaN</td>\n",
              "      <td>NaN</td>\n",
              "      <td>Karnataka Power Corporation Limited</td>\n",
              "    </tr>\n",
              "    <tr>\n",
              "      <th>904</th>\n",
              "      <td>IND</td>\n",
              "      <td>India</td>\n",
              "      <td>Yelisirur wind power project</td>\n",
              "      <td>WRI1026776</td>\n",
              "      <td>25.5</td>\n",
              "      <td>15.2758</td>\n",
              "      <td>75.5811</td>\n",
              "      <td>Wind</td>\n",
              "      <td>NaN</td>\n",
              "      <td>NaN</td>\n",
              "      <td>NaN</td>\n",
              "      <td>NaN</td>\n",
              "      <td>NaN</td>\n",
              "    </tr>\n",
              "    <tr>\n",
              "      <th>905</th>\n",
              "      <td>IND</td>\n",
              "      <td>India</td>\n",
              "      <td>ZAWAR MINES</td>\n",
              "      <td>WRI1019901</td>\n",
              "      <td>80.0</td>\n",
              "      <td>24.3500</td>\n",
              "      <td>73.7477</td>\n",
              "      <td>Coal</td>\n",
              "      <td>NaN</td>\n",
              "      <td>NaN</td>\n",
              "      <td>NaN</td>\n",
              "      <td>NaN</td>\n",
              "      <td>Hindustan Zinc ltd</td>\n",
              "    </tr>\n",
              "    <tr>\n",
              "      <th>906</th>\n",
              "      <td>IND</td>\n",
              "      <td>India</td>\n",
              "      <td>iEnergy Theni Wind Farm</td>\n",
              "      <td>WRI1026761</td>\n",
              "      <td>16.5</td>\n",
              "      <td>9.9344</td>\n",
              "      <td>77.4768</td>\n",
              "      <td>Wind</td>\n",
              "      <td>NaN</td>\n",
              "      <td>NaN</td>\n",
              "      <td>NaN</td>\n",
              "      <td>NaN</td>\n",
              "      <td>iEnergy Wind Farms</td>\n",
              "    </tr>\n",
              "  </tbody>\n",
              "</table>\n",
              "<p>907 rows × 13 columns</p>\n",
              "</div>\n",
              "    <div class=\"colab-df-buttons\">\n",
              "\n",
              "  <div class=\"colab-df-container\">\n",
              "    <button class=\"colab-df-convert\" onclick=\"convertToInteractive('df-9de6e226-d147-46c4-8d7a-c5866d825192')\"\n",
              "            title=\"Convert this dataframe to an interactive table.\"\n",
              "            style=\"display:none;\">\n",
              "\n",
              "  <svg xmlns=\"http://www.w3.org/2000/svg\" height=\"24px\" viewBox=\"0 -960 960 960\">\n",
              "    <path d=\"M120-120v-720h720v720H120Zm60-500h600v-160H180v160Zm220 220h160v-160H400v160Zm0 220h160v-160H400v160ZM180-400h160v-160H180v160Zm440 0h160v-160H620v160ZM180-180h160v-160H180v160Zm440 0h160v-160H620v160Z\"/>\n",
              "  </svg>\n",
              "    </button>\n",
              "\n",
              "  <style>\n",
              "    .colab-df-container {\n",
              "      display:flex;\n",
              "      gap: 12px;\n",
              "    }\n",
              "\n",
              "    .colab-df-convert {\n",
              "      background-color: #E8F0FE;\n",
              "      border: none;\n",
              "      border-radius: 50%;\n",
              "      cursor: pointer;\n",
              "      display: none;\n",
              "      fill: #1967D2;\n",
              "      height: 32px;\n",
              "      padding: 0 0 0 0;\n",
              "      width: 32px;\n",
              "    }\n",
              "\n",
              "    .colab-df-convert:hover {\n",
              "      background-color: #E2EBFA;\n",
              "      box-shadow: 0px 1px 2px rgba(60, 64, 67, 0.3), 0px 1px 3px 1px rgba(60, 64, 67, 0.15);\n",
              "      fill: #174EA6;\n",
              "    }\n",
              "\n",
              "    .colab-df-buttons div {\n",
              "      margin-bottom: 4px;\n",
              "    }\n",
              "\n",
              "    [theme=dark] .colab-df-convert {\n",
              "      background-color: #3B4455;\n",
              "      fill: #D2E3FC;\n",
              "    }\n",
              "\n",
              "    [theme=dark] .colab-df-convert:hover {\n",
              "      background-color: #434B5C;\n",
              "      box-shadow: 0px 1px 3px 1px rgba(0, 0, 0, 0.15);\n",
              "      filter: drop-shadow(0px 1px 2px rgba(0, 0, 0, 0.3));\n",
              "      fill: #FFFFFF;\n",
              "    }\n",
              "  </style>\n",
              "\n",
              "    <script>\n",
              "      const buttonEl =\n",
              "        document.querySelector('#df-9de6e226-d147-46c4-8d7a-c5866d825192 button.colab-df-convert');\n",
              "      buttonEl.style.display =\n",
              "        google.colab.kernel.accessAllowed ? 'block' : 'none';\n",
              "\n",
              "      async function convertToInteractive(key) {\n",
              "        const element = document.querySelector('#df-9de6e226-d147-46c4-8d7a-c5866d825192');\n",
              "        const dataTable =\n",
              "          await google.colab.kernel.invokeFunction('convertToInteractive',\n",
              "                                                    [key], {});\n",
              "        if (!dataTable) return;\n",
              "\n",
              "        const docLinkHtml = 'Like what you see? Visit the ' +\n",
              "          '<a target=\"_blank\" href=https://colab.research.google.com/notebooks/data_table.ipynb>data table notebook</a>'\n",
              "          + ' to learn more about interactive tables.';\n",
              "        element.innerHTML = '';\n",
              "        dataTable['output_type'] = 'display_data';\n",
              "        await google.colab.output.renderOutput(dataTable, element);\n",
              "        const docLink = document.createElement('div');\n",
              "        docLink.innerHTML = docLinkHtml;\n",
              "        element.appendChild(docLink);\n",
              "      }\n",
              "    </script>\n",
              "  </div>\n",
              "\n",
              "\n",
              "<div id=\"df-1701af55-16a1-4ce2-a58b-c5e9c5b11320\">\n",
              "  <button class=\"colab-df-quickchart\" onclick=\"quickchart('df-1701af55-16a1-4ce2-a58b-c5e9c5b11320')\"\n",
              "            title=\"Suggest charts\"\n",
              "            style=\"display:none;\">\n",
              "\n",
              "<svg xmlns=\"http://www.w3.org/2000/svg\" height=\"24px\"viewBox=\"0 0 24 24\"\n",
              "     width=\"24px\">\n",
              "    <g>\n",
              "        <path d=\"M19 3H5c-1.1 0-2 .9-2 2v14c0 1.1.9 2 2 2h14c1.1 0 2-.9 2-2V5c0-1.1-.9-2-2-2zM9 17H7v-7h2v7zm4 0h-2V7h2v10zm4 0h-2v-4h2v4z\"/>\n",
              "    </g>\n",
              "</svg>\n",
              "  </button>\n",
              "\n",
              "<style>\n",
              "  .colab-df-quickchart {\n",
              "      --bg-color: #E8F0FE;\n",
              "      --fill-color: #1967D2;\n",
              "      --hover-bg-color: #E2EBFA;\n",
              "      --hover-fill-color: #174EA6;\n",
              "      --disabled-fill-color: #AAA;\n",
              "      --disabled-bg-color: #DDD;\n",
              "  }\n",
              "\n",
              "  [theme=dark] .colab-df-quickchart {\n",
              "      --bg-color: #3B4455;\n",
              "      --fill-color: #D2E3FC;\n",
              "      --hover-bg-color: #434B5C;\n",
              "      --hover-fill-color: #FFFFFF;\n",
              "      --disabled-bg-color: #3B4455;\n",
              "      --disabled-fill-color: #666;\n",
              "  }\n",
              "\n",
              "  .colab-df-quickchart {\n",
              "    background-color: var(--bg-color);\n",
              "    border: none;\n",
              "    border-radius: 50%;\n",
              "    cursor: pointer;\n",
              "    display: none;\n",
              "    fill: var(--fill-color);\n",
              "    height: 32px;\n",
              "    padding: 0;\n",
              "    width: 32px;\n",
              "  }\n",
              "\n",
              "  .colab-df-quickchart:hover {\n",
              "    background-color: var(--hover-bg-color);\n",
              "    box-shadow: 0 1px 2px rgba(60, 64, 67, 0.3), 0 1px 3px 1px rgba(60, 64, 67, 0.15);\n",
              "    fill: var(--button-hover-fill-color);\n",
              "  }\n",
              "\n",
              "  .colab-df-quickchart-complete:disabled,\n",
              "  .colab-df-quickchart-complete:disabled:hover {\n",
              "    background-color: var(--disabled-bg-color);\n",
              "    fill: var(--disabled-fill-color);\n",
              "    box-shadow: none;\n",
              "  }\n",
              "\n",
              "  .colab-df-spinner {\n",
              "    border: 2px solid var(--fill-color);\n",
              "    border-color: transparent;\n",
              "    border-bottom-color: var(--fill-color);\n",
              "    animation:\n",
              "      spin 1s steps(1) infinite;\n",
              "  }\n",
              "\n",
              "  @keyframes spin {\n",
              "    0% {\n",
              "      border-color: transparent;\n",
              "      border-bottom-color: var(--fill-color);\n",
              "      border-left-color: var(--fill-color);\n",
              "    }\n",
              "    20% {\n",
              "      border-color: transparent;\n",
              "      border-left-color: var(--fill-color);\n",
              "      border-top-color: var(--fill-color);\n",
              "    }\n",
              "    30% {\n",
              "      border-color: transparent;\n",
              "      border-left-color: var(--fill-color);\n",
              "      border-top-color: var(--fill-color);\n",
              "      border-right-color: var(--fill-color);\n",
              "    }\n",
              "    40% {\n",
              "      border-color: transparent;\n",
              "      border-right-color: var(--fill-color);\n",
              "      border-top-color: var(--fill-color);\n",
              "    }\n",
              "    60% {\n",
              "      border-color: transparent;\n",
              "      border-right-color: var(--fill-color);\n",
              "    }\n",
              "    80% {\n",
              "      border-color: transparent;\n",
              "      border-right-color: var(--fill-color);\n",
              "      border-bottom-color: var(--fill-color);\n",
              "    }\n",
              "    90% {\n",
              "      border-color: transparent;\n",
              "      border-bottom-color: var(--fill-color);\n",
              "    }\n",
              "  }\n",
              "</style>\n",
              "\n",
              "  <script>\n",
              "    async function quickchart(key) {\n",
              "      const quickchartButtonEl =\n",
              "        document.querySelector('#' + key + ' button');\n",
              "      quickchartButtonEl.disabled = true;  // To prevent multiple clicks.\n",
              "      quickchartButtonEl.classList.add('colab-df-spinner');\n",
              "      try {\n",
              "        const charts = await google.colab.kernel.invokeFunction(\n",
              "            'suggestCharts', [key], {});\n",
              "      } catch (error) {\n",
              "        console.error('Error during call to suggestCharts:', error);\n",
              "      }\n",
              "      quickchartButtonEl.classList.remove('colab-df-spinner');\n",
              "      quickchartButtonEl.classList.add('colab-df-quickchart-complete');\n",
              "    }\n",
              "    (() => {\n",
              "      let quickchartButtonEl =\n",
              "        document.querySelector('#df-1701af55-16a1-4ce2-a58b-c5e9c5b11320 button');\n",
              "      quickchartButtonEl.style.display =\n",
              "        google.colab.kernel.accessAllowed ? 'block' : 'none';\n",
              "    })();\n",
              "  </script>\n",
              "</div>\n",
              "    </div>\n",
              "  </div>\n"
            ]
          },
          "metadata": {},
          "execution_count": 454
        }
      ]
    },
    {
      "cell_type": "code",
      "source": [
        "df[df.columns[13:]]"
      ],
      "metadata": {
        "colab": {
          "base_uri": "https://localhost:8080/",
          "height": 686
        },
        "id": "zCUvYiBvLetk",
        "outputId": "59042e2c-98c7-4bed-e133-70c1154fa16e"
      },
      "execution_count": 455,
      "outputs": [
        {
          "output_type": "execute_result",
          "data": {
            "text/plain": [
              "                                   source  \\\n",
              "0    National Renewable Energy Laboratory   \n",
              "1                    Ultratech Cement ltd   \n",
              "2                                     CDM   \n",
              "3           Central Electricity Authority   \n",
              "4           Central Electricity Authority   \n",
              "..                                    ...   \n",
              "902         Central Electricity Authority   \n",
              "903   Karnataka Power Corporation Limited   \n",
              "904                                   CDM   \n",
              "905                    Hindustan Zinc ltd   \n",
              "906                                   CDM   \n",
              "\n",
              "                                                   url  \\\n",
              "0    http://www.nrel.gov/csp/solarpaces/project_det...   \n",
              "1                      http://www.ultratechcement.com/   \n",
              "2    https://cdm.unfccc.int/Projects/DB/DNV-CUK1328...   \n",
              "3                               http://www.cea.nic.in/   \n",
              "4                               http://www.cea.nic.in/   \n",
              "..                                                 ...   \n",
              "902                             http://www.cea.nic.in/   \n",
              "903                          http://karnatakapower.com   \n",
              "904  https://cdm.unfccc.int/Projects/DB/TUEV-RHEIN1...   \n",
              "905                           http://www.hzlindia.com/   \n",
              "906  https://cdm.unfccc.int/Projects/DB/RWTUV134503...   \n",
              "\n",
              "                       geolocation_source  wepp_id  year_of_capacity_data  \\\n",
              "0    National Renewable Energy Laboratory      NaN                    NaN   \n",
              "1                                     WRI      NaN                    NaN   \n",
              "2                                     WRI      NaN                    NaN   \n",
              "3                                     WRI      NaN                 2019.0   \n",
              "4                                     WRI      NaN                 2019.0   \n",
              "..                                    ...      ...                    ...   \n",
              "902                                   WRI      NaN                 2019.0   \n",
              "903                        Industry About      NaN                    NaN   \n",
              "904                                   WRI      NaN                    NaN   \n",
              "905                                   WRI      NaN                    NaN   \n",
              "906                                   WRI      NaN                    NaN   \n",
              "\n",
              "     generation_gwh_2013  generation_gwh_2014  generation_gwh_2015  \\\n",
              "0                    NaN                  NaN                  NaN   \n",
              "1                    NaN                  NaN                  NaN   \n",
              "2                    NaN                  NaN                  NaN   \n",
              "3                    NaN           617.789264           843.747000   \n",
              "4                    NaN          3035.550000          5916.370000   \n",
              "..                   ...                  ...                  ...   \n",
              "902                  NaN                  NaN             0.994875   \n",
              "903                  NaN                  NaN                  NaN   \n",
              "904                  NaN                  NaN                  NaN   \n",
              "905                  NaN                  NaN                  NaN   \n",
              "906                  NaN                  NaN                  NaN   \n",
              "\n",
              "     generation_gwh_2016  generation_gwh_2017  generation_gwh_2018  \\\n",
              "0                    NaN                  NaN                  NaN   \n",
              "1                    NaN                  NaN                  NaN   \n",
              "2                    NaN                  NaN                  NaN   \n",
              "3             886.004428           663.774500           626.239128   \n",
              "4            6243.000000          5385.579736          7279.000000   \n",
              "..                   ...                  ...                  ...   \n",
              "902           233.596650           865.400000           686.500000   \n",
              "903                  NaN                  NaN                  NaN   \n",
              "904                  NaN                  NaN                  NaN   \n",
              "905                  NaN                  NaN                  NaN   \n",
              "906                  NaN                  NaN                  NaN   \n",
              "\n",
              "     generation_gwh_2019         generation_data_source  \\\n",
              "0                    NaN                            NaN   \n",
              "1                    NaN                            NaN   \n",
              "2                    NaN                            NaN   \n",
              "3                    NaN  Central Electricity Authority   \n",
              "4                    NaN  Central Electricity Authority   \n",
              "..                   ...                            ...   \n",
              "902                  NaN  Central Electricity Authority   \n",
              "903                  NaN                            NaN   \n",
              "904                  NaN                            NaN   \n",
              "905                  NaN                            NaN   \n",
              "906                  NaN                            NaN   \n",
              "\n",
              "     estimated_generation_gwh  \n",
              "0                         NaN  \n",
              "1                         NaN  \n",
              "2                         NaN  \n",
              "3                         NaN  \n",
              "4                         NaN  \n",
              "..                        ...  \n",
              "902                       NaN  \n",
              "903                       NaN  \n",
              "904                       NaN  \n",
              "905                       NaN  \n",
              "906                       NaN  \n",
              "\n",
              "[907 rows x 14 columns]"
            ],
            "text/html": [
              "\n",
              "  <div id=\"df-1353e646-83d9-49cf-90df-8488c15f1b90\" class=\"colab-df-container\">\n",
              "    <div>\n",
              "<style scoped>\n",
              "    .dataframe tbody tr th:only-of-type {\n",
              "        vertical-align: middle;\n",
              "    }\n",
              "\n",
              "    .dataframe tbody tr th {\n",
              "        vertical-align: top;\n",
              "    }\n",
              "\n",
              "    .dataframe thead th {\n",
              "        text-align: right;\n",
              "    }\n",
              "</style>\n",
              "<table border=\"1\" class=\"dataframe\">\n",
              "  <thead>\n",
              "    <tr style=\"text-align: right;\">\n",
              "      <th></th>\n",
              "      <th>source</th>\n",
              "      <th>url</th>\n",
              "      <th>geolocation_source</th>\n",
              "      <th>wepp_id</th>\n",
              "      <th>year_of_capacity_data</th>\n",
              "      <th>generation_gwh_2013</th>\n",
              "      <th>generation_gwh_2014</th>\n",
              "      <th>generation_gwh_2015</th>\n",
              "      <th>generation_gwh_2016</th>\n",
              "      <th>generation_gwh_2017</th>\n",
              "      <th>generation_gwh_2018</th>\n",
              "      <th>generation_gwh_2019</th>\n",
              "      <th>generation_data_source</th>\n",
              "      <th>estimated_generation_gwh</th>\n",
              "    </tr>\n",
              "  </thead>\n",
              "  <tbody>\n",
              "    <tr>\n",
              "      <th>0</th>\n",
              "      <td>National Renewable Energy Laboratory</td>\n",
              "      <td>http://www.nrel.gov/csp/solarpaces/project_det...</td>\n",
              "      <td>National Renewable Energy Laboratory</td>\n",
              "      <td>NaN</td>\n",
              "      <td>NaN</td>\n",
              "      <td>NaN</td>\n",
              "      <td>NaN</td>\n",
              "      <td>NaN</td>\n",
              "      <td>NaN</td>\n",
              "      <td>NaN</td>\n",
              "      <td>NaN</td>\n",
              "      <td>NaN</td>\n",
              "      <td>NaN</td>\n",
              "      <td>NaN</td>\n",
              "    </tr>\n",
              "    <tr>\n",
              "      <th>1</th>\n",
              "      <td>Ultratech Cement ltd</td>\n",
              "      <td>http://www.ultratechcement.com/</td>\n",
              "      <td>WRI</td>\n",
              "      <td>NaN</td>\n",
              "      <td>NaN</td>\n",
              "      <td>NaN</td>\n",
              "      <td>NaN</td>\n",
              "      <td>NaN</td>\n",
              "      <td>NaN</td>\n",
              "      <td>NaN</td>\n",
              "      <td>NaN</td>\n",
              "      <td>NaN</td>\n",
              "      <td>NaN</td>\n",
              "      <td>NaN</td>\n",
              "    </tr>\n",
              "    <tr>\n",
              "      <th>2</th>\n",
              "      <td>CDM</td>\n",
              "      <td>https://cdm.unfccc.int/Projects/DB/DNV-CUK1328...</td>\n",
              "      <td>WRI</td>\n",
              "      <td>NaN</td>\n",
              "      <td>NaN</td>\n",
              "      <td>NaN</td>\n",
              "      <td>NaN</td>\n",
              "      <td>NaN</td>\n",
              "      <td>NaN</td>\n",
              "      <td>NaN</td>\n",
              "      <td>NaN</td>\n",
              "      <td>NaN</td>\n",
              "      <td>NaN</td>\n",
              "      <td>NaN</td>\n",
              "    </tr>\n",
              "    <tr>\n",
              "      <th>3</th>\n",
              "      <td>Central Electricity Authority</td>\n",
              "      <td>http://www.cea.nic.in/</td>\n",
              "      <td>WRI</td>\n",
              "      <td>NaN</td>\n",
              "      <td>2019.0</td>\n",
              "      <td>NaN</td>\n",
              "      <td>617.789264</td>\n",
              "      <td>843.747000</td>\n",
              "      <td>886.004428</td>\n",
              "      <td>663.774500</td>\n",
              "      <td>626.239128</td>\n",
              "      <td>NaN</td>\n",
              "      <td>Central Electricity Authority</td>\n",
              "      <td>NaN</td>\n",
              "    </tr>\n",
              "    <tr>\n",
              "      <th>4</th>\n",
              "      <td>Central Electricity Authority</td>\n",
              "      <td>http://www.cea.nic.in/</td>\n",
              "      <td>WRI</td>\n",
              "      <td>NaN</td>\n",
              "      <td>2019.0</td>\n",
              "      <td>NaN</td>\n",
              "      <td>3035.550000</td>\n",
              "      <td>5916.370000</td>\n",
              "      <td>6243.000000</td>\n",
              "      <td>5385.579736</td>\n",
              "      <td>7279.000000</td>\n",
              "      <td>NaN</td>\n",
              "      <td>Central Electricity Authority</td>\n",
              "      <td>NaN</td>\n",
              "    </tr>\n",
              "    <tr>\n",
              "      <th>...</th>\n",
              "      <td>...</td>\n",
              "      <td>...</td>\n",
              "      <td>...</td>\n",
              "      <td>...</td>\n",
              "      <td>...</td>\n",
              "      <td>...</td>\n",
              "      <td>...</td>\n",
              "      <td>...</td>\n",
              "      <td>...</td>\n",
              "      <td>...</td>\n",
              "      <td>...</td>\n",
              "      <td>...</td>\n",
              "      <td>...</td>\n",
              "      <td>...</td>\n",
              "    </tr>\n",
              "    <tr>\n",
              "      <th>902</th>\n",
              "      <td>Central Electricity Authority</td>\n",
              "      <td>http://www.cea.nic.in/</td>\n",
              "      <td>WRI</td>\n",
              "      <td>NaN</td>\n",
              "      <td>2019.0</td>\n",
              "      <td>NaN</td>\n",
              "      <td>NaN</td>\n",
              "      <td>0.994875</td>\n",
              "      <td>233.596650</td>\n",
              "      <td>865.400000</td>\n",
              "      <td>686.500000</td>\n",
              "      <td>NaN</td>\n",
              "      <td>Central Electricity Authority</td>\n",
              "      <td>NaN</td>\n",
              "    </tr>\n",
              "    <tr>\n",
              "      <th>903</th>\n",
              "      <td>Karnataka Power Corporation Limited</td>\n",
              "      <td>http://karnatakapower.com</td>\n",
              "      <td>Industry About</td>\n",
              "      <td>NaN</td>\n",
              "      <td>NaN</td>\n",
              "      <td>NaN</td>\n",
              "      <td>NaN</td>\n",
              "      <td>NaN</td>\n",
              "      <td>NaN</td>\n",
              "      <td>NaN</td>\n",
              "      <td>NaN</td>\n",
              "      <td>NaN</td>\n",
              "      <td>NaN</td>\n",
              "      <td>NaN</td>\n",
              "    </tr>\n",
              "    <tr>\n",
              "      <th>904</th>\n",
              "      <td>CDM</td>\n",
              "      <td>https://cdm.unfccc.int/Projects/DB/TUEV-RHEIN1...</td>\n",
              "      <td>WRI</td>\n",
              "      <td>NaN</td>\n",
              "      <td>NaN</td>\n",
              "      <td>NaN</td>\n",
              "      <td>NaN</td>\n",
              "      <td>NaN</td>\n",
              "      <td>NaN</td>\n",
              "      <td>NaN</td>\n",
              "      <td>NaN</td>\n",
              "      <td>NaN</td>\n",
              "      <td>NaN</td>\n",
              "      <td>NaN</td>\n",
              "    </tr>\n",
              "    <tr>\n",
              "      <th>905</th>\n",
              "      <td>Hindustan Zinc ltd</td>\n",
              "      <td>http://www.hzlindia.com/</td>\n",
              "      <td>WRI</td>\n",
              "      <td>NaN</td>\n",
              "      <td>NaN</td>\n",
              "      <td>NaN</td>\n",
              "      <td>NaN</td>\n",
              "      <td>NaN</td>\n",
              "      <td>NaN</td>\n",
              "      <td>NaN</td>\n",
              "      <td>NaN</td>\n",
              "      <td>NaN</td>\n",
              "      <td>NaN</td>\n",
              "      <td>NaN</td>\n",
              "    </tr>\n",
              "    <tr>\n",
              "      <th>906</th>\n",
              "      <td>CDM</td>\n",
              "      <td>https://cdm.unfccc.int/Projects/DB/RWTUV134503...</td>\n",
              "      <td>WRI</td>\n",
              "      <td>NaN</td>\n",
              "      <td>NaN</td>\n",
              "      <td>NaN</td>\n",
              "      <td>NaN</td>\n",
              "      <td>NaN</td>\n",
              "      <td>NaN</td>\n",
              "      <td>NaN</td>\n",
              "      <td>NaN</td>\n",
              "      <td>NaN</td>\n",
              "      <td>NaN</td>\n",
              "      <td>NaN</td>\n",
              "    </tr>\n",
              "  </tbody>\n",
              "</table>\n",
              "<p>907 rows × 14 columns</p>\n",
              "</div>\n",
              "    <div class=\"colab-df-buttons\">\n",
              "\n",
              "  <div class=\"colab-df-container\">\n",
              "    <button class=\"colab-df-convert\" onclick=\"convertToInteractive('df-1353e646-83d9-49cf-90df-8488c15f1b90')\"\n",
              "            title=\"Convert this dataframe to an interactive table.\"\n",
              "            style=\"display:none;\">\n",
              "\n",
              "  <svg xmlns=\"http://www.w3.org/2000/svg\" height=\"24px\" viewBox=\"0 -960 960 960\">\n",
              "    <path d=\"M120-120v-720h720v720H120Zm60-500h600v-160H180v160Zm220 220h160v-160H400v160Zm0 220h160v-160H400v160ZM180-400h160v-160H180v160Zm440 0h160v-160H620v160ZM180-180h160v-160H180v160Zm440 0h160v-160H620v160Z\"/>\n",
              "  </svg>\n",
              "    </button>\n",
              "\n",
              "  <style>\n",
              "    .colab-df-container {\n",
              "      display:flex;\n",
              "      gap: 12px;\n",
              "    }\n",
              "\n",
              "    .colab-df-convert {\n",
              "      background-color: #E8F0FE;\n",
              "      border: none;\n",
              "      border-radius: 50%;\n",
              "      cursor: pointer;\n",
              "      display: none;\n",
              "      fill: #1967D2;\n",
              "      height: 32px;\n",
              "      padding: 0 0 0 0;\n",
              "      width: 32px;\n",
              "    }\n",
              "\n",
              "    .colab-df-convert:hover {\n",
              "      background-color: #E2EBFA;\n",
              "      box-shadow: 0px 1px 2px rgba(60, 64, 67, 0.3), 0px 1px 3px 1px rgba(60, 64, 67, 0.15);\n",
              "      fill: #174EA6;\n",
              "    }\n",
              "\n",
              "    .colab-df-buttons div {\n",
              "      margin-bottom: 4px;\n",
              "    }\n",
              "\n",
              "    [theme=dark] .colab-df-convert {\n",
              "      background-color: #3B4455;\n",
              "      fill: #D2E3FC;\n",
              "    }\n",
              "\n",
              "    [theme=dark] .colab-df-convert:hover {\n",
              "      background-color: #434B5C;\n",
              "      box-shadow: 0px 1px 3px 1px rgba(0, 0, 0, 0.15);\n",
              "      filter: drop-shadow(0px 1px 2px rgba(0, 0, 0, 0.3));\n",
              "      fill: #FFFFFF;\n",
              "    }\n",
              "  </style>\n",
              "\n",
              "    <script>\n",
              "      const buttonEl =\n",
              "        document.querySelector('#df-1353e646-83d9-49cf-90df-8488c15f1b90 button.colab-df-convert');\n",
              "      buttonEl.style.display =\n",
              "        google.colab.kernel.accessAllowed ? 'block' : 'none';\n",
              "\n",
              "      async function convertToInteractive(key) {\n",
              "        const element = document.querySelector('#df-1353e646-83d9-49cf-90df-8488c15f1b90');\n",
              "        const dataTable =\n",
              "          await google.colab.kernel.invokeFunction('convertToInteractive',\n",
              "                                                    [key], {});\n",
              "        if (!dataTable) return;\n",
              "\n",
              "        const docLinkHtml = 'Like what you see? Visit the ' +\n",
              "          '<a target=\"_blank\" href=https://colab.research.google.com/notebooks/data_table.ipynb>data table notebook</a>'\n",
              "          + ' to learn more about interactive tables.';\n",
              "        element.innerHTML = '';\n",
              "        dataTable['output_type'] = 'display_data';\n",
              "        await google.colab.output.renderOutput(dataTable, element);\n",
              "        const docLink = document.createElement('div');\n",
              "        docLink.innerHTML = docLinkHtml;\n",
              "        element.appendChild(docLink);\n",
              "      }\n",
              "    </script>\n",
              "  </div>\n",
              "\n",
              "\n",
              "<div id=\"df-059d0b32-5712-44ed-821d-ca51cd6fdd84\">\n",
              "  <button class=\"colab-df-quickchart\" onclick=\"quickchart('df-059d0b32-5712-44ed-821d-ca51cd6fdd84')\"\n",
              "            title=\"Suggest charts\"\n",
              "            style=\"display:none;\">\n",
              "\n",
              "<svg xmlns=\"http://www.w3.org/2000/svg\" height=\"24px\"viewBox=\"0 0 24 24\"\n",
              "     width=\"24px\">\n",
              "    <g>\n",
              "        <path d=\"M19 3H5c-1.1 0-2 .9-2 2v14c0 1.1.9 2 2 2h14c1.1 0 2-.9 2-2V5c0-1.1-.9-2-2-2zM9 17H7v-7h2v7zm4 0h-2V7h2v10zm4 0h-2v-4h2v4z\"/>\n",
              "    </g>\n",
              "</svg>\n",
              "  </button>\n",
              "\n",
              "<style>\n",
              "  .colab-df-quickchart {\n",
              "      --bg-color: #E8F0FE;\n",
              "      --fill-color: #1967D2;\n",
              "      --hover-bg-color: #E2EBFA;\n",
              "      --hover-fill-color: #174EA6;\n",
              "      --disabled-fill-color: #AAA;\n",
              "      --disabled-bg-color: #DDD;\n",
              "  }\n",
              "\n",
              "  [theme=dark] .colab-df-quickchart {\n",
              "      --bg-color: #3B4455;\n",
              "      --fill-color: #D2E3FC;\n",
              "      --hover-bg-color: #434B5C;\n",
              "      --hover-fill-color: #FFFFFF;\n",
              "      --disabled-bg-color: #3B4455;\n",
              "      --disabled-fill-color: #666;\n",
              "  }\n",
              "\n",
              "  .colab-df-quickchart {\n",
              "    background-color: var(--bg-color);\n",
              "    border: none;\n",
              "    border-radius: 50%;\n",
              "    cursor: pointer;\n",
              "    display: none;\n",
              "    fill: var(--fill-color);\n",
              "    height: 32px;\n",
              "    padding: 0;\n",
              "    width: 32px;\n",
              "  }\n",
              "\n",
              "  .colab-df-quickchart:hover {\n",
              "    background-color: var(--hover-bg-color);\n",
              "    box-shadow: 0 1px 2px rgba(60, 64, 67, 0.3), 0 1px 3px 1px rgba(60, 64, 67, 0.15);\n",
              "    fill: var(--button-hover-fill-color);\n",
              "  }\n",
              "\n",
              "  .colab-df-quickchart-complete:disabled,\n",
              "  .colab-df-quickchart-complete:disabled:hover {\n",
              "    background-color: var(--disabled-bg-color);\n",
              "    fill: var(--disabled-fill-color);\n",
              "    box-shadow: none;\n",
              "  }\n",
              "\n",
              "  .colab-df-spinner {\n",
              "    border: 2px solid var(--fill-color);\n",
              "    border-color: transparent;\n",
              "    border-bottom-color: var(--fill-color);\n",
              "    animation:\n",
              "      spin 1s steps(1) infinite;\n",
              "  }\n",
              "\n",
              "  @keyframes spin {\n",
              "    0% {\n",
              "      border-color: transparent;\n",
              "      border-bottom-color: var(--fill-color);\n",
              "      border-left-color: var(--fill-color);\n",
              "    }\n",
              "    20% {\n",
              "      border-color: transparent;\n",
              "      border-left-color: var(--fill-color);\n",
              "      border-top-color: var(--fill-color);\n",
              "    }\n",
              "    30% {\n",
              "      border-color: transparent;\n",
              "      border-left-color: var(--fill-color);\n",
              "      border-top-color: var(--fill-color);\n",
              "      border-right-color: var(--fill-color);\n",
              "    }\n",
              "    40% {\n",
              "      border-color: transparent;\n",
              "      border-right-color: var(--fill-color);\n",
              "      border-top-color: var(--fill-color);\n",
              "    }\n",
              "    60% {\n",
              "      border-color: transparent;\n",
              "      border-right-color: var(--fill-color);\n",
              "    }\n",
              "    80% {\n",
              "      border-color: transparent;\n",
              "      border-right-color: var(--fill-color);\n",
              "      border-bottom-color: var(--fill-color);\n",
              "    }\n",
              "    90% {\n",
              "      border-color: transparent;\n",
              "      border-bottom-color: var(--fill-color);\n",
              "    }\n",
              "  }\n",
              "</style>\n",
              "\n",
              "  <script>\n",
              "    async function quickchart(key) {\n",
              "      const quickchartButtonEl =\n",
              "        document.querySelector('#' + key + ' button');\n",
              "      quickchartButtonEl.disabled = true;  // To prevent multiple clicks.\n",
              "      quickchartButtonEl.classList.add('colab-df-spinner');\n",
              "      try {\n",
              "        const charts = await google.colab.kernel.invokeFunction(\n",
              "            'suggestCharts', [key], {});\n",
              "      } catch (error) {\n",
              "        console.error('Error during call to suggestCharts:', error);\n",
              "      }\n",
              "      quickchartButtonEl.classList.remove('colab-df-spinner');\n",
              "      quickchartButtonEl.classList.add('colab-df-quickchart-complete');\n",
              "    }\n",
              "    (() => {\n",
              "      let quickchartButtonEl =\n",
              "        document.querySelector('#df-059d0b32-5712-44ed-821d-ca51cd6fdd84 button');\n",
              "      quickchartButtonEl.style.display =\n",
              "        google.colab.kernel.accessAllowed ? 'block' : 'none';\n",
              "    })();\n",
              "  </script>\n",
              "</div>\n",
              "    </div>\n",
              "  </div>\n"
            ]
          },
          "metadata": {},
          "execution_count": 455
        }
      ]
    },
    {
      "cell_type": "code",
      "source": [
        "#check data shape\n",
        "df.shape"
      ],
      "metadata": {
        "colab": {
          "base_uri": "https://localhost:8080/"
        },
        "id": "tWziZfg4zXnz",
        "outputId": "bdf8c576-6759-4277-d987-826c591e3d85"
      },
      "execution_count": 456,
      "outputs": [
        {
          "output_type": "execute_result",
          "data": {
            "text/plain": [
              "(907, 27)"
            ]
          },
          "metadata": {},
          "execution_count": 456
        }
      ]
    },
    {
      "cell_type": "code",
      "source": [
        "#check metadata of data\n",
        "df.info()"
      ],
      "metadata": {
        "colab": {
          "base_uri": "https://localhost:8080/"
        },
        "id": "Sy1TdQ2vzeOv",
        "outputId": "238e00b0-61e5-4da5-edfa-5a0aa4b4f6cc"
      },
      "execution_count": 457,
      "outputs": [
        {
          "output_type": "stream",
          "name": "stdout",
          "text": [
            "<class 'pandas.core.frame.DataFrame'>\n",
            "RangeIndex: 907 entries, 0 to 906\n",
            "Data columns (total 27 columns):\n",
            " #   Column                    Non-Null Count  Dtype  \n",
            "---  ------                    --------------  -----  \n",
            " 0   country                   907 non-null    object \n",
            " 1   country_long              907 non-null    object \n",
            " 2   name                      907 non-null    object \n",
            " 3   gppd_idnr                 907 non-null    object \n",
            " 4   capacity_mw               907 non-null    float64\n",
            " 5   latitude                  861 non-null    float64\n",
            " 6   longitude                 861 non-null    float64\n",
            " 7   primary_fuel              907 non-null    object \n",
            " 8   other_fuel1               198 non-null    object \n",
            " 9   other_fuel2               1 non-null      object \n",
            " 10  other_fuel3               0 non-null      float64\n",
            " 11  commissioning_year        527 non-null    float64\n",
            " 12  owner                     342 non-null    object \n",
            " 13  source                    907 non-null    object \n",
            " 14  url                       907 non-null    object \n",
            " 15  geolocation_source        888 non-null    object \n",
            " 16  wepp_id                   0 non-null      float64\n",
            " 17  year_of_capacity_data     519 non-null    float64\n",
            " 18  generation_gwh_2013       0 non-null      float64\n",
            " 19  generation_gwh_2014       398 non-null    float64\n",
            " 20  generation_gwh_2015       422 non-null    float64\n",
            " 21  generation_gwh_2016       434 non-null    float64\n",
            " 22  generation_gwh_2017       440 non-null    float64\n",
            " 23  generation_gwh_2018       448 non-null    float64\n",
            " 24  generation_gwh_2019       0 non-null      float64\n",
            " 25  generation_data_source    449 non-null    object \n",
            " 26  estimated_generation_gwh  0 non-null      float64\n",
            "dtypes: float64(15), object(12)\n",
            "memory usage: 191.4+ KB\n"
          ]
        }
      ]
    },
    {
      "cell_type": "code",
      "source": [
        "#check null values\n",
        "df.isna().sum()"
      ],
      "metadata": {
        "colab": {
          "base_uri": "https://localhost:8080/"
        },
        "id": "g1Gz4Cb7znwS",
        "outputId": "6e5853a0-f4ee-4de6-d48a-55a648b17e14"
      },
      "execution_count": 458,
      "outputs": [
        {
          "output_type": "execute_result",
          "data": {
            "text/plain": [
              "country                       0\n",
              "country_long                  0\n",
              "name                          0\n",
              "gppd_idnr                     0\n",
              "capacity_mw                   0\n",
              "latitude                     46\n",
              "longitude                    46\n",
              "primary_fuel                  0\n",
              "other_fuel1                 709\n",
              "other_fuel2                 906\n",
              "other_fuel3                 907\n",
              "commissioning_year          380\n",
              "owner                       565\n",
              "source                        0\n",
              "url                           0\n",
              "geolocation_source           19\n",
              "wepp_id                     907\n",
              "year_of_capacity_data       388\n",
              "generation_gwh_2013         907\n",
              "generation_gwh_2014         509\n",
              "generation_gwh_2015         485\n",
              "generation_gwh_2016         473\n",
              "generation_gwh_2017         467\n",
              "generation_gwh_2018         459\n",
              "generation_gwh_2019         907\n",
              "generation_data_source      458\n",
              "estimated_generation_gwh    907\n",
              "dtype: int64"
            ]
          },
          "metadata": {},
          "execution_count": 458
        }
      ]
    },
    {
      "cell_type": "code",
      "source": [
        "#deleting columns who have too many null values\n",
        "df.drop(columns=['name','country','country_long','latitude','generation_gwh_2013','generation_gwh_2019','other_fuel1','other_fuel2','other_fuel3','url','wepp_id','year_of_capacity_data','generation_data_source','estimated_generation_gwh','owner','source','geolocation_source'],axis=1,inplace=True)"
      ],
      "metadata": {
        "id": "mD2Sd1t8No0A"
      },
      "execution_count": 459,
      "outputs": []
    },
    {
      "cell_type": "markdown",
      "source": [
        "cant go further with this columns cause they have too many null values and replacing all this values is likely to  filling wrong values"
      ],
      "metadata": {
        "id": "qxzzl7J52A9R"
      }
    },
    {
      "cell_type": "code",
      "source": [
        "#printig dataframe after deleting columns\n",
        "df.info()"
      ],
      "metadata": {
        "colab": {
          "base_uri": "https://localhost:8080/"
        },
        "id": "NenINswwzLYi",
        "outputId": "d64c9b52-064a-4ae3-8142-fdfeaf84140c"
      },
      "execution_count": 460,
      "outputs": [
        {
          "output_type": "stream",
          "name": "stdout",
          "text": [
            "<class 'pandas.core.frame.DataFrame'>\n",
            "RangeIndex: 907 entries, 0 to 906\n",
            "Data columns (total 10 columns):\n",
            " #   Column               Non-Null Count  Dtype  \n",
            "---  ------               --------------  -----  \n",
            " 0   gppd_idnr            907 non-null    object \n",
            " 1   capacity_mw          907 non-null    float64\n",
            " 2   longitude            861 non-null    float64\n",
            " 3   primary_fuel         907 non-null    object \n",
            " 4   commissioning_year   527 non-null    float64\n",
            " 5   generation_gwh_2014  398 non-null    float64\n",
            " 6   generation_gwh_2015  422 non-null    float64\n",
            " 7   generation_gwh_2016  434 non-null    float64\n",
            " 8   generation_gwh_2017  440 non-null    float64\n",
            " 9   generation_gwh_2018  448 non-null    float64\n",
            "dtypes: float64(8), object(2)\n",
            "memory usage: 71.0+ KB\n"
          ]
        }
      ]
    },
    {
      "cell_type": "code",
      "source": [
        "#replace null values with median\n",
        "df['generation_gwh_2014']=df['generation_gwh_2014'].fillna(df['generation_gwh_2014'].median())\n",
        "df['generation_gwh_2015']=df['generation_gwh_2015'].fillna(df['generation_gwh_2015'].median())\n",
        "df['generation_gwh_2016']=df['generation_gwh_2016'].fillna(df['generation_gwh_2016'].median())\n",
        "df['generation_gwh_2017']=df['generation_gwh_2017'].fillna(df['generation_gwh_2017'].median())\n",
        "df['generation_gwh_2018']=df['generation_gwh_2018'].fillna(df['generation_gwh_2018'].median())"
      ],
      "metadata": {
        "id": "Di0ixIjbc6Dr"
      },
      "execution_count": 461,
      "outputs": []
    },
    {
      "cell_type": "markdown",
      "source": [
        "I am using median to replace null values as it is appropriate and not biased"
      ],
      "metadata": {
        "id": "-TZVHbMM2i8f"
      }
    },
    {
      "cell_type": "code",
      "source": [
        "#plot distribution of continuos data\n",
        "cont_f=['capacity_mw','generation_gwh_2014','generation_gwh_2015','generation_gwh_2016','generation_gwh_2017','generation_gwh_2018']\n",
        "plt.figure(figsize=(20,10))\n",
        "plotno=1\n",
        "for i in cont_f:\n",
        "  plt.subplot(2,3,plotno)\n",
        "  sns.distplot(df[i])\n",
        "  plt.xlabel(i)\n",
        "  plotno+=1\n",
        "plt.show()\n"
      ],
      "metadata": {
        "colab": {
          "base_uri": "https://localhost:8080/",
          "height": 732
        },
        "id": "DY6UkEtc1XFg",
        "outputId": "f107025a-d302-40f0-b8f0-7f951d3b3272"
      },
      "execution_count": 462,
      "outputs": [
        {
          "output_type": "display_data",
          "data": {
            "text/plain": [
              "<Figure size 2000x1000 with 6 Axes>"
            ],
            "image/png": "[encoded data removed]"
          },
          "metadata": {}
        }
      ]
    },
    {
      "cell_type": "markdown",
      "source": [
        "excluding categorical feature all other feature's are right skewed"
      ],
      "metadata": {
        "id": "Rg9hD7Sm6JN5"
      }
    },
    {
      "cell_type": "code",
      "source": [
        "#check outliers\n",
        "plt.figure(figsize=(20,10))\n",
        "plotno=1\n",
        "for i in cont_f:\n",
        "  plt.subplot(2,3,plotno)\n",
        "  sns.boxplot(df[i])\n",
        "  #plt.xlabel(i)\n",
        "  plotno+=1\n",
        "plt.show()\n"
      ],
      "metadata": {
        "colab": {
          "base_uri": "https://localhost:8080/",
          "height": 725
        },
        "id": "8HHnGk1T43Jy",
        "outputId": "c99fa4ac-e590-4bc9-a28f-a01a241c68a2"
      },
      "execution_count": 463,
      "outputs": [
        {
          "output_type": "display_data",
          "data": {
            "text/plain": [
              "<Figure size 2000x1000 with 6 Axes>"
            ],
            "image/png": "[encoded data removed]"
          },
          "metadata": {}
        }
      ]
    },
    {
      "cell_type": "code",
      "source": [
        "encode_f=['gppd_idnr','primary_fuel']"
      ],
      "metadata": {
        "id": "5p2gZ4CdK1Cg"
      },
      "execution_count": 464,
      "outputs": []
    },
    {
      "cell_type": "code",
      "source": [
        "#encoding feature\n",
        "for i in encode_f:\n",
        "  df[i]=LabelEncoder().fit_transform(df[i])"
      ],
      "metadata": {
        "id": "civJ9Pks3-mH"
      },
      "execution_count": 465,
      "outputs": []
    },
    {
      "cell_type": "code",
      "source": [
        "nan_f=['commissioning_year','longitude']"
      ],
      "metadata": {
        "id": "yDe6bDoqGXZg"
      },
      "execution_count": 466,
      "outputs": []
    },
    {
      "cell_type": "code",
      "source": [
        "#filling nan values of selected features\n",
        "impute=KNNImputer()\n",
        "df[nan_f]=impute.fit_transform(df[nan_f])"
      ],
      "metadata": {
        "id": "WIjusHGpFcED"
      },
      "execution_count": 467,
      "outputs": []
    },
    {
      "cell_type": "code",
      "source": [
        "#check skewness\n",
        "df.skew()"
      ],
      "metadata": {
        "colab": {
          "base_uri": "https://localhost:8080/"
        },
        "id": "i7Q-rWQS5cTt",
        "outputId": "d61363b7-f07c-47ff-c4c3-2d312fbdc0ad"
      },
      "execution_count": 468,
      "outputs": [
        {
          "output_type": "execute_result",
          "data": {
            "text/plain": [
              "gppd_idnr              0.000000\n",
              "capacity_mw            3.123576\n",
              "longitude              1.093800\n",
              "primary_fuel           0.472251\n",
              "commissioning_year    -1.078549\n",
              "generation_gwh_2014    5.321360\n",
              "generation_gwh_2015    5.566773\n",
              "generation_gwh_2016    5.281953\n",
              "generation_gwh_2017    5.315103\n",
              "generation_gwh_2018    5.133226\n",
              "dtype: float64"
            ]
          },
          "metadata": {},
          "execution_count": 468
        }
      ]
    },
    {
      "cell_type": "code",
      "source": [
        "#check correalation\n",
        "plt.figure(figsize=(10,5))\n",
        "sns.heatmap(df.corr(),annot=True)\n",
        "plt.show()"
      ],
      "metadata": {
        "colab": {
          "base_uri": "https://localhost:8080/",
          "height": 591
        },
        "id": "2CUuyVllL8n8",
        "outputId": "ab2bd04f-e8e1-43ae-b6f3-46ef44cd5420"
      },
      "execution_count": 469,
      "outputs": [
        {
          "output_type": "display_data",
          "data": {
            "text/plain": [
              "<Figure size 1000x500 with 2 Axes>"
            ],
            "image/png": "[encoded data removed]"
          },
          "metadata": {}
        }
      ]
    },
    {
      "cell_type": "code",
      "source": [
        "# pwt=PowerTransformer(method='yeo-johnson',standardize=False)\n",
        "# df[cont_f]=pwt.fit_transform(df[cont_f])"
      ],
      "metadata": {
        "id": "VMQAToAs8-LV"
      },
      "execution_count": 470,
      "outputs": []
    },
    {
      "cell_type": "code",
      "source": [
        "# zscore=zscore(df[cont_f])\n",
        "# z_scr=np.abs(zscore)\n",
        "# filtered=(z_scr < 3).all(axis=1)\n",
        "# df=df[filtered]"
      ],
      "metadata": {
        "id": "wAwFjyoU6bWV"
      },
      "execution_count": 471,
      "outputs": []
    },
    {
      "cell_type": "code",
      "source": [
        "X=df.drop(columns=['capacity_mw'],axis=1)\n",
        "y=df['capacity_mw']"
      ],
      "metadata": {
        "id": "c97QSUkMAPG-"
      },
      "execution_count": 520,
      "outputs": []
    },
    {
      "cell_type": "code",
      "source": [
        "vif=pd.DataFrame()\n",
        "vif['feature']=X.columns\n",
        "vif['score']=[variance_inflation_factor(X.values,i) for i in range(len(X.columns))]\n",
        "vif"
      ],
      "metadata": {
        "colab": {
          "base_uri": "https://localhost:8080/",
          "height": 331
        },
        "id": "oSBu5Gj_MF7K",
        "outputId": "9f83bbb1-c90b-4c12-e29d-a9b1aaa99634"
      },
      "execution_count": 473,
      "outputs": [
        {
          "output_type": "execute_result",
          "data": {
            "text/plain": [
              "               feature       score\n",
              "0            gppd_idnr    6.781759\n",
              "1            longitude  306.710801\n",
              "2         primary_fuel    5.015040\n",
              "3   commissioning_year  338.096904\n",
              "4  generation_gwh_2014   18.326438\n",
              "5  generation_gwh_2015   42.827310\n",
              "6  generation_gwh_2016   55.756265\n",
              "7  generation_gwh_2017   67.457808\n",
              "8  generation_gwh_2018   49.325824"
            ],
            "text/html": [
              "\n",
              "  <div id=\"df-4879f76c-9d5e-4edd-85eb-0298f47ff422\" class=\"colab-df-container\">\n",
              "    <div>\n",
              "<style scoped>\n",
              "    .dataframe tbody tr th:only-of-type {\n",
              "        vertical-align: middle;\n",
              "    }\n",
              "\n",
              "    .dataframe tbody tr th {\n",
              "        vertical-align: top;\n",
              "    }\n",
              "\n",
              "    .dataframe thead th {\n",
              "        text-align: right;\n",
              "    }\n",
              "</style>\n",
              "<table border=\"1\" class=\"dataframe\">\n",
              "  <thead>\n",
              "    <tr style=\"text-align: right;\">\n",
              "      <th></th>\n",
              "      <th>feature</th>\n",
              "      <th>score</th>\n",
              "    </tr>\n",
              "  </thead>\n",
              "  <tbody>\n",
              "    <tr>\n",
              "      <th>0</th>\n",
              "      <td>gppd_idnr</td>\n",
              "      <td>6.781759</td>\n",
              "    </tr>\n",
              "    <tr>\n",
              "      <th>1</th>\n",
              "      <td>longitude</td>\n",
              "      <td>306.710801</td>\n",
              "    </tr>\n",
              "    <tr>\n",
              "      <th>2</th>\n",
              "      <td>primary_fuel</td>\n",
              "      <td>5.015040</td>\n",
              "    </tr>\n",
              "    <tr>\n",
              "      <th>3</th>\n",
              "      <td>commissioning_year</td>\n",
              "      <td>338.096904</td>\n",
              "    </tr>\n",
              "    <tr>\n",
              "      <th>4</th>\n",
              "      <td>generation_gwh_2014</td>\n",
              "      <td>18.326438</td>\n",
              "    </tr>\n",
              "    <tr>\n",
              "      <th>5</th>\n",
              "      <td>generation_gwh_2015</td>\n",
              "      <td>42.827310</td>\n",
              "    </tr>\n",
              "    <tr>\n",
              "      <th>6</th>\n",
              "      <td>generation_gwh_2016</td>\n",
              "      <td>55.756265</td>\n",
              "    </tr>\n",
              "    <tr>\n",
              "      <th>7</th>\n",
              "      <td>generation_gwh_2017</td>\n",
              "      <td>67.457808</td>\n",
              "    </tr>\n",
              "    <tr>\n",
              "      <th>8</th>\n",
              "      <td>generation_gwh_2018</td>\n",
              "      <td>49.325824</td>\n",
              "    </tr>\n",
              "  </tbody>\n",
              "</table>\n",
              "</div>\n",
              "    <div class=\"colab-df-buttons\">\n",
              "\n",
              "  <div class=\"colab-df-container\">\n",
              "    <button class=\"colab-df-convert\" onclick=\"convertToInteractive('df-4879f76c-9d5e-4edd-85eb-0298f47ff422')\"\n",
              "            title=\"Convert this dataframe to an interactive table.\"\n",
              "            style=\"display:none;\">\n",
              "\n",
              "  <svg xmlns=\"http://www.w3.org/2000/svg\" height=\"24px\" viewBox=\"0 -960 960 960\">\n",
              "    <path d=\"M120-120v-720h720v720H120Zm60-500h600v-160H180v160Zm220 220h160v-160H400v160Zm0 220h160v-160H400v160ZM180-400h160v-160H180v160Zm440 0h160v-160H620v160ZM180-180h160v-160H180v160Zm440 0h160v-160H620v160Z\"/>\n",
              "  </svg>\n",
              "    </button>\n",
              "\n",
              "  <style>\n",
              "    .colab-df-container {\n",
              "      display:flex;\n",
              "      gap: 12px;\n",
              "    }\n",
              "\n",
              "    .colab-df-convert {\n",
              "      background-color: #E8F0FE;\n",
              "      border: none;\n",
              "      border-radius: 50%;\n",
              "      cursor: pointer;\n",
              "      display: none;\n",
              "      fill: #1967D2;\n",
              "      height: 32px;\n",
              "      padding: 0 0 0 0;\n",
              "      width: 32px;\n",
              "    }\n",
              "\n",
              "    .colab-df-convert:hover {\n",
              "      background-color: #E2EBFA;\n",
              "      box-shadow: 0px 1px 2px rgba(60, 64, 67, 0.3), 0px 1px 3px 1px rgba(60, 64, 67, 0.15);\n",
              "      fill: #174EA6;\n",
              "    }\n",
              "\n",
              "    .colab-df-buttons div {\n",
              "      margin-bottom: 4px;\n",
              "    }\n",
              "\n",
              "    [theme=dark] .colab-df-convert {\n",
              "      background-color: #3B4455;\n",
              "      fill: #D2E3FC;\n",
              "    }\n",
              "\n",
              "    [theme=dark] .colab-df-convert:hover {\n",
              "      background-color: #434B5C;\n",
              "      box-shadow: 0px 1px 3px 1px rgba(0, 0, 0, 0.15);\n",
              "      filter: drop-shadow(0px 1px 2px rgba(0, 0, 0, 0.3));\n",
              "      fill: #FFFFFF;\n",
              "    }\n",
              "  </style>\n",
              "\n",
              "    <script>\n",
              "      const buttonEl =\n",
              "        document.querySelector('#df-4879f76c-9d5e-4edd-85eb-0298f47ff422 button.colab-df-convert');\n",
              "      buttonEl.style.display =\n",
              "        google.colab.kernel.accessAllowed ? 'block' : 'none';\n",
              "\n",
              "      async function convertToInteractive(key) {\n",
              "        const element = document.querySelector('#df-4879f76c-9d5e-4edd-85eb-0298f47ff422');\n",
              "        const dataTable =\n",
              "          await google.colab.kernel.invokeFunction('convertToInteractive',\n",
              "                                                    [key], {});\n",
              "        if (!dataTable) return;\n",
              "\n",
              "        const docLinkHtml = 'Like what you see? Visit the ' +\n",
              "          '<a target=\"_blank\" href=https://colab.research.google.com/notebooks/data_table.ipynb>data table notebook</a>'\n",
              "          + ' to learn more about interactive tables.';\n",
              "        element.innerHTML = '';\n",
              "        dataTable['output_type'] = 'display_data';\n",
              "        await google.colab.output.renderOutput(dataTable, element);\n",
              "        const docLink = document.createElement('div');\n",
              "        docLink.innerHTML = docLinkHtml;\n",
              "        element.appendChild(docLink);\n",
              "      }\n",
              "    </script>\n",
              "  </div>\n",
              "\n",
              "\n",
              "<div id=\"df-4fd63f12-e261-476c-ae5c-2bcc0310276c\">\n",
              "  <button class=\"colab-df-quickchart\" onclick=\"quickchart('df-4fd63f12-e261-476c-ae5c-2bcc0310276c')\"\n",
              "            title=\"Suggest charts\"\n",
              "            style=\"display:none;\">\n",
              "\n",
              "<svg xmlns=\"http://www.w3.org/2000/svg\" height=\"24px\"viewBox=\"0 0 24 24\"\n",
              "     width=\"24px\">\n",
              "    <g>\n",
              "        <path d=\"M19 3H5c-1.1 0-2 .9-2 2v14c0 1.1.9 2 2 2h14c1.1 0 2-.9 2-2V5c0-1.1-.9-2-2-2zM9 17H7v-7h2v7zm4 0h-2V7h2v10zm4 0h-2v-4h2v4z\"/>\n",
              "    </g>\n",
              "</svg>\n",
              "  </button>\n",
              "\n",
              "<style>\n",
              "  .colab-df-quickchart {\n",
              "      --bg-color: #E8F0FE;\n",
              "      --fill-color: #1967D2;\n",
              "      --hover-bg-color: #E2EBFA;\n",
              "      --hover-fill-color: #174EA6;\n",
              "      --disabled-fill-color: #AAA;\n",
              "      --disabled-bg-color: #DDD;\n",
              "  }\n",
              "\n",
              "  [theme=dark] .colab-df-quickchart {\n",
              "      --bg-color: #3B4455;\n",
              "      --fill-color: #D2E3FC;\n",
              "      --hover-bg-color: #434B5C;\n",
              "      --hover-fill-color: #FFFFFF;\n",
              "      --disabled-bg-color: #3B4455;\n",
              "      --disabled-fill-color: #666;\n",
              "  }\n",
              "\n",
              "  .colab-df-quickchart {\n",
              "    background-color: var(--bg-color);\n",
              "    border: none;\n",
              "    border-radius: 50%;\n",
              "    cursor: pointer;\n",
              "    display: none;\n",
              "    fill: var(--fill-color);\n",
              "    height: 32px;\n",
              "    padding: 0;\n",
              "    width: 32px;\n",
              "  }\n",
              "\n",
              "  .colab-df-quickchart:hover {\n",
              "    background-color: var(--hover-bg-color);\n",
              "    box-shadow: 0 1px 2px rgba(60, 64, 67, 0.3), 0 1px 3px 1px rgba(60, 64, 67, 0.15);\n",
              "    fill: var(--button-hover-fill-color);\n",
              "  }\n",
              "\n",
              "  .colab-df-quickchart-complete:disabled,\n",
              "  .colab-df-quickchart-complete:disabled:hover {\n",
              "    background-color: var(--disabled-bg-color);\n",
              "    fill: var(--disabled-fill-color);\n",
              "    box-shadow: none;\n",
              "  }\n",
              "\n",
              "  .colab-df-spinner {\n",
              "    border: 2px solid var(--fill-color);\n",
              "    border-color: transparent;\n",
              "    border-bottom-color: var(--fill-color);\n",
              "    animation:\n",
              "      spin 1s steps(1) infinite;\n",
              "  }\n",
              "\n",
              "  @keyframes spin {\n",
              "    0% {\n",
              "      border-color: transparent;\n",
              "      border-bottom-color: var(--fill-color);\n",
              "      border-left-color: var(--fill-color);\n",
              "    }\n",
              "    20% {\n",
              "      border-color: transparent;\n",
              "      border-left-color: var(--fill-color);\n",
              "      border-top-color: var(--fill-color);\n",
              "    }\n",
              "    30% {\n",
              "      border-color: transparent;\n",
              "      border-left-color: var(--fill-color);\n",
              "      border-top-color: var(--fill-color);\n",
              "      border-right-color: var(--fill-color);\n",
              "    }\n",
              "    40% {\n",
              "      border-color: transparent;\n",
              "      border-right-color: var(--fill-color);\n",
              "      border-top-color: var(--fill-color);\n",
              "    }\n",
              "    60% {\n",
              "      border-color: transparent;\n",
              "      border-right-color: var(--fill-color);\n",
              "    }\n",
              "    80% {\n",
              "      border-color: transparent;\n",
              "      border-right-color: var(--fill-color);\n",
              "      border-bottom-color: var(--fill-color);\n",
              "    }\n",
              "    90% {\n",
              "      border-color: transparent;\n",
              "      border-bottom-color: var(--fill-color);\n",
              "    }\n",
              "  }\n",
              "</style>\n",
              "\n",
              "  <script>\n",
              "    async function quickchart(key) {\n",
              "      const quickchartButtonEl =\n",
              "        document.querySelector('#' + key + ' button');\n",
              "      quickchartButtonEl.disabled = true;  // To prevent multiple clicks.\n",
              "      quickchartButtonEl.classList.add('colab-df-spinner');\n",
              "      try {\n",
              "        const charts = await google.colab.kernel.invokeFunction(\n",
              "            'suggestCharts', [key], {});\n",
              "      } catch (error) {\n",
              "        console.error('Error during call to suggestCharts:', error);\n",
              "      }\n",
              "      quickchartButtonEl.classList.remove('colab-df-spinner');\n",
              "      quickchartButtonEl.classList.add('colab-df-quickchart-complete');\n",
              "    }\n",
              "    (() => {\n",
              "      let quickchartButtonEl =\n",
              "        document.querySelector('#df-4fd63f12-e261-476c-ae5c-2bcc0310276c button');\n",
              "      quickchartButtonEl.style.display =\n",
              "        google.colab.kernel.accessAllowed ? 'block' : 'none';\n",
              "    })();\n",
              "  </script>\n",
              "</div>\n",
              "    </div>\n",
              "  </div>\n"
            ]
          },
          "metadata": {},
          "execution_count": 473
        }
      ]
    },
    {
      "cell_type": "code",
      "source": [
        "plt.figure(figsize=(30,10))\n",
        "plt.bar(vif['feature'],vif['score'])\n",
        "plt.show()"
      ],
      "metadata": {
        "colab": {
          "base_uri": "https://localhost:8080/",
          "height": 500
        },
        "id": "5T9h4i7aN77k",
        "outputId": "61c0e7d8-1a7b-4777-9b85-ea322e3c6d52"
      },
      "execution_count": 474,
      "outputs": [
        {
          "output_type": "display_data",
          "data": {
            "text/plain": [
              "<Figure size 3000x1000 with 1 Axes>"
            ],
            "image/png": "[encoded data removed]"
          },
          "metadata": {}
        }
      ]
    },
    {
      "cell_type": "code",
      "source": [
        "df.drop(columns=['longitude','commissioning_year'],axis=1,inplace=True)"
      ],
      "metadata": {
        "id": "ar-19uEXWX9u"
      },
      "execution_count": 475,
      "outputs": []
    },
    {
      "cell_type": "code",
      "source": [
        "#feature scaling\n",
        "scal=StandardScaler()\n",
        "x_scal=scal.fit_transform(X)"
      ],
      "metadata": {
        "id": "3-LFPrR4BRzh"
      },
      "execution_count": 521,
      "outputs": []
    },
    {
      "cell_type": "code",
      "source": [
        "#finding best random state\n",
        "maxscr=0\n",
        "ind=0\n",
        "for i in range(100):\n",
        "  x_train,x_test,y_train,y_test=train_test_split(x_scal,y,test_size=0.20,random_state=i)\n",
        "  lr=LinearRegression()\n",
        "  lr.fit(x_train,y_train)\n",
        "  y_pred=lr.predict(x_test)\n",
        "  scr=r2_score(y_test,y_pred)\n",
        "  if scr > maxscr:\n",
        "    maxscr=scr\n",
        "    ind=i\n",
        "\n",
        "print(f'maxscore {maxscr} at index {ind}')"
      ],
      "metadata": {
        "colab": {
          "base_uri": "https://localhost:8080/"
        },
        "id": "iW1579_MBhHR",
        "outputId": "5e66dd0a-96fe-4feb-eb42-2b7cd7ff63e6"
      },
      "execution_count": 522,
      "outputs": [
        {
          "output_type": "stream",
          "name": "stdout",
          "text": [
            "maxscore 0.9166058769299933 at index 96\n"
          ]
        }
      ]
    },
    {
      "cell_type": "code",
      "source": [
        "x_train,x_test,y_train,y_test=train_test_split(x_scal,y,test_size=0.20,random_state=41)"
      ],
      "metadata": {
        "id": "Dn6tCRFwHYPs"
      },
      "execution_count": 523,
      "outputs": []
    },
    {
      "cell_type": "markdown",
      "source": [
        "**Model Building**"
      ],
      "metadata": {
        "id": "X4YgotMJa1e0"
      }
    },
    {
      "cell_type": "code",
      "source": [
        "#bulding Linearregression\n",
        "lr=LinearRegression()\n",
        "lr.fit(x_train,y_train)\n",
        "print('-'*15,'Training Score','-'*15)\n",
        "print(r2_score(y_train,lr.predict(x_train)))\n",
        "print('-'*15,'Testing Score','-'*15)\n",
        "lr_y_pred=lr.predict(x_test)\n",
        "lr_test_score=r2_score(y_test,lr_y_pred)\n",
        "print(lr_test_score)"
      ],
      "metadata": {
        "colab": {
          "base_uri": "https://localhost:8080/"
        },
        "id": "9On0HYnia1Bu",
        "outputId": "71de4880-e04d-40a2-e309-a917d0f0e86c"
      },
      "execution_count": 524,
      "outputs": [
        {
          "output_type": "stream",
          "name": "stdout",
          "text": [
            "--------------- Training Score ---------------\n",
            "0.8370742685928001\n",
            "--------------- Testing Score ---------------\n",
            "0.722401630637733\n"
          ]
        }
      ]
    },
    {
      "cell_type": "code",
      "source": [
        "#bulding KNeighborsRegressor\n",
        "knr=KNeighborsRegressor()\n",
        "knr.fit(x_train,y_train)\n",
        "print('-'*15,'Training Score','-'*15)\n",
        "print(r2_score(y_train,knr.predict(x_train)))\n",
        "print('-'*15,'Testing Score','-'*15)\n",
        "knr_y_pred=knr.predict(x_test)\n",
        "knr_test_score=r2_score(y_test,knr_y_pred)\n",
        "print(knr_test_score)"
      ],
      "metadata": {
        "colab": {
          "base_uri": "https://localhost:8080/"
        },
        "id": "ghv5ms3jbvbL",
        "outputId": "791cab0a-d00e-41d0-b9ed-12e1ca9ac981"
      },
      "execution_count": 525,
      "outputs": [
        {
          "output_type": "stream",
          "name": "stdout",
          "text": [
            "--------------- Training Score ---------------\n",
            "0.9097128514769361\n",
            "--------------- Testing Score ---------------\n",
            "0.7532292095956132\n"
          ]
        }
      ]
    },
    {
      "cell_type": "code",
      "source": [
        "#bulding SVR\n",
        "svr=SVR()\n",
        "svr.fit(x_train,y_train)\n",
        "print('-'*15,'Training Score','-'*15)\n",
        "print(r2_score(y_train,svr.predict(x_train)))\n",
        "print('-'*15,'Testing Score','-'*15)\n",
        "svr_y_pred=svr.predict(x_test)\n",
        "svr_test_score=r2_score(y_test,svr_y_pred)\n",
        "print(svr_test_score)"
      ],
      "metadata": {
        "colab": {
          "base_uri": "https://localhost:8080/"
        },
        "id": "lufJCQ2TcjaC",
        "outputId": "64ad1eff-e27f-49c3-ed3f-ae4b4809c354"
      },
      "execution_count": 526,
      "outputs": [
        {
          "output_type": "stream",
          "name": "stdout",
          "text": [
            "--------------- Training Score ---------------\n",
            "-0.08391118177366153\n",
            "--------------- Testing Score ---------------\n",
            "-0.18627353062765528\n"
          ]
        }
      ]
    },
    {
      "cell_type": "code",
      "source": [
        "#bulding DecisionTreeRegressor\n",
        "dtr=DecisionTreeRegressor()\n",
        "dtr.fit(x_train,y_train)\n",
        "print('-'*15,'Training Score','-'*15)\n",
        "print(r2_score(y_train,dtr.predict(x_train)))\n",
        "print('-'*15,'Testing Score','-'*15)\n",
        "dtr_y_pred=dtr.predict(x_test)\n",
        "dtr_test_score=r2_score(y_test,dtr_y_pred)\n",
        "print(dtr_test_score)"
      ],
      "metadata": {
        "colab": {
          "base_uri": "https://localhost:8080/"
        },
        "id": "6Bh6ZE9lcu7B",
        "outputId": "12af5691-5644-499d-d1ed-0836f771cafd"
      },
      "execution_count": 527,
      "outputs": [
        {
          "output_type": "stream",
          "name": "stdout",
          "text": [
            "--------------- Training Score ---------------\n",
            "1.0\n",
            "--------------- Testing Score ---------------\n",
            "0.682265223784029\n"
          ]
        }
      ]
    },
    {
      "cell_type": "code",
      "source": [
        "#bulding RandomForestRegressor\n",
        "rfr=RandomForestRegressor()\n",
        "rfr.fit(x_train,y_train)\n",
        "print('-'*15,'Training Score','-'*15)\n",
        "print(r2_score(y_train,rfr.predict(x_train)))\n",
        "print('-'*15,'Testing Score','-'*15)\n",
        "rfr_y_pred=rfr.predict(x_test)\n",
        "rfr_test_score=r2_score(y_test,rfr_y_pred)\n",
        "print(rfr_test_score)"
      ],
      "metadata": {
        "colab": {
          "base_uri": "https://localhost:8080/"
        },
        "id": "O9Ab7BDXc7L-",
        "outputId": "aff10f75-30de-4239-8ffa-6a962f2c194c"
      },
      "execution_count": 528,
      "outputs": [
        {
          "output_type": "stream",
          "name": "stdout",
          "text": [
            "--------------- Training Score ---------------\n",
            "0.9827514577055536\n",
            "--------------- Testing Score ---------------\n",
            "0.7851804010874674\n"
          ]
        }
      ]
    },
    {
      "cell_type": "code",
      "source": [
        "#bulding AdaBoostRegressor\n",
        "abr=AdaBoostRegressor()\n",
        "abr.fit(x_train,y_train)\n",
        "print('-'*15,'Training Score','-'*15)\n",
        "print(r2_score(y_train,abr.predict(x_train)))\n",
        "print('-'*15,'Testing Score','-'*15)\n",
        "abr_y_pred=abr.predict(x_test)\n",
        "adr_test_score=r2_score(y_test,abr_y_pred)\n",
        "print(adr_test_score)"
      ],
      "metadata": {
        "colab": {
          "base_uri": "https://localhost:8080/"
        },
        "id": "OGa42REFdPwJ",
        "outputId": "28b8607b-e8a4-4eab-cf77-3e2228f10ba6"
      },
      "execution_count": 529,
      "outputs": [
        {
          "output_type": "stream",
          "name": "stdout",
          "text": [
            "--------------- Training Score ---------------\n",
            "0.8901997575470006\n",
            "--------------- Testing Score ---------------\n",
            "0.7584054256816153\n"
          ]
        }
      ]
    },
    {
      "cell_type": "code",
      "source": [
        "\n",
        "#bulding GradientBoostingRegressor\n",
        "gbr=GradientBoostingRegressor()\n",
        "gbr.fit(x_train,y_train)\n",
        "print('-'*15,'Training Score','-'*15)\n",
        "print(r2_score(y_train,gbr.predict(x_train)))\n",
        "print('-'*15,'Testing Score','-'*15)\n",
        "gbr_y_pred=gbr.predict(x_test)\n",
        "gbr_test_score=r2_score(y_test,gbr_y_pred)\n",
        "print(gbr_test_score)"
      ],
      "metadata": {
        "colab": {
          "base_uri": "https://localhost:8080/"
        },
        "id": "2aCMy5OLd3GO",
        "outputId": "eb4f7196-59e7-4c0b-9dc0-95c308c9a124"
      },
      "execution_count": 530,
      "outputs": [
        {
          "output_type": "stream",
          "name": "stdout",
          "text": [
            "--------------- Training Score ---------------\n",
            "0.9747059851059203\n",
            "--------------- Testing Score ---------------\n",
            "0.7810225737377915\n"
          ]
        }
      ]
    },
    {
      "cell_type": "code",
      "source": [
        "#bulding XGBRegressor\n",
        "xgbr=XGBRegressor()\n",
        "xgbr.fit(x_train,y_train)\n",
        "print('-'*15,'Training Score','-'*15)\n",
        "print(r2_score(y_train,xgbr.predict(x_train)))\n",
        "print('-'*15,'Testing Score','-'*15)\n",
        "xgbr_y_pred=xgbr.predict(x_test)\n",
        "xgbr_test_score=r2_score(y_test,xgbr_y_pred)\n",
        "print(xgbr_test_score)"
      ],
      "metadata": {
        "colab": {
          "base_uri": "https://localhost:8080/"
        },
        "id": "DV08p0oGeIu0",
        "outputId": "32de18ae-8080-49a6-eb30-86cdc6e533d1"
      },
      "execution_count": 531,
      "outputs": [
        {
          "output_type": "stream",
          "name": "stdout",
          "text": [
            "--------------- Training Score ---------------\n",
            "0.9984077130151909\n",
            "--------------- Testing Score ---------------\n",
            "0.7400449767251831\n"
          ]
        }
      ]
    },
    {
      "cell_type": "markdown",
      "source": [
        "**Cross Validation**"
      ],
      "metadata": {
        "id": "HF7UxN1jf9wT"
      }
    },
    {
      "cell_type": "code",
      "source": [
        "def cross_validation(ml_alg,x_train,y_train,test_scr,cv):\n",
        "  cvscr=cross_val_score(ml_alg,x_train,y_train,cv=cv)\n",
        "  print('\\n',cvscr,'\\n')\n",
        "  print('cv.mean                            tesing score               difference')\n",
        "  print(f'{(cvscr.mean())*100}          {(test_scr)*100}                 {(cvscr.mean()- test_scr)*100}')"
      ],
      "metadata": {
        "id": "HwSYbL0NbBKB"
      },
      "execution_count": 532,
      "outputs": []
    },
    {
      "cell_type": "code",
      "source": [
        "#cross validatioin of linearregression\n",
        "cross_validation(LinearRegression(),x_train,y_train,lr_test_score,5)"
      ],
      "metadata": {
        "colab": {
          "base_uri": "https://localhost:8080/"
        },
        "id": "XQ46nNdjgAur",
        "outputId": "9515a361-6d3e-430c-bea9-abf9348106eb"
      },
      "execution_count": 533,
      "outputs": [
        {
          "output_type": "stream",
          "name": "stdout",
          "text": [
            "\n",
            " [0.86191891 0.87097814 0.73815972 0.66791752 0.66051929] \n",
            "\n",
            "cv.mean                            tesing score               difference\n",
            "75.98987167999664          72.2401630637733                 3.749708616223335\n"
          ]
        }
      ]
    },
    {
      "cell_type": "code",
      "source": [
        "#cross validatioin of KNeighborsRegressor\n",
        "cross_validation(KNeighborsRegressor(),x_train,y_train,knr_test_score,5)"
      ],
      "metadata": {
        "colab": {
          "base_uri": "https://localhost:8080/"
        },
        "id": "QJRZORsIiAcK",
        "outputId": "83743a3a-0eb6-4b9d-c002-800ab6dd86e4"
      },
      "execution_count": 534,
      "outputs": [
        {
          "output_type": "stream",
          "name": "stdout",
          "text": [
            "\n",
            " [0.82633397 0.90357774 0.73157813 0.8647248  0.79510167] \n",
            "\n",
            "cv.mean                            tesing score               difference\n",
            "82.42632624962566          75.32292095956133                 7.103405290064336\n"
          ]
        }
      ]
    },
    {
      "cell_type": "code",
      "source": [
        "#cross validatioin of svr\n",
        "cross_validation(SVR(),x_train,y_train,svr_test_score,5)"
      ],
      "metadata": {
        "colab": {
          "base_uri": "https://localhost:8080/"
        },
        "id": "0jEiNfTaiNrW",
        "outputId": "e59f73a0-96a7-4eec-b18a-26286974cdc8"
      },
      "execution_count": 535,
      "outputs": [
        {
          "output_type": "stream",
          "name": "stdout",
          "text": [
            "\n",
            " [-0.16731271 -0.07747052 -0.10434846 -0.1435145  -0.05679004] \n",
            "\n",
            "cv.mean                            tesing score               difference\n",
            "-10.988724821497712          -18.62735306276553                 7.638628241267815\n"
          ]
        }
      ]
    },
    {
      "cell_type": "code",
      "source": [
        "#cross validatioin of DecisionTreeRegressor\n",
        "cross_validation(DecisionTreeRegressor(),x_train,y_train,dtr_test_score,5)"
      ],
      "metadata": {
        "colab": {
          "base_uri": "https://localhost:8080/"
        },
        "id": "KqebNGk7iVOw",
        "outputId": "cc232e9d-f311-48ab-ec3d-b05f30112762"
      },
      "execution_count": 536,
      "outputs": [
        {
          "output_type": "stream",
          "name": "stdout",
          "text": [
            "\n",
            " [0.88088066 0.77448057 0.6785969  0.74780634 0.49356413] \n",
            "\n",
            "cv.mean                            tesing score               difference\n",
            "71.50657201644006          68.2265223784029                 3.2800496380371635\n"
          ]
        }
      ]
    },
    {
      "cell_type": "code",
      "source": [
        "#cross validatioin of RandomForestRegressor\n",
        "cross_validation(RandomForestRegressor(),x_train,y_train,rfr_test_score,5)"
      ],
      "metadata": {
        "colab": {
          "base_uri": "https://localhost:8080/"
        },
        "id": "XfhXWXxrib-y",
        "outputId": "0b3d4d25-26a3-4070-939e-1ccccdde1080"
      },
      "execution_count": 537,
      "outputs": [
        {
          "output_type": "stream",
          "name": "stdout",
          "text": [
            "\n",
            " [0.89263405 0.91836316 0.76659031 0.83883286 0.79735898] \n",
            "\n",
            "cv.mean                            tesing score               difference\n",
            "84.27558717075797          78.51804010874675                 5.757547062011225\n"
          ]
        }
      ]
    },
    {
      "cell_type": "code",
      "source": [
        "#cross validatioin of AdaBoostRegressor\n",
        "cross_validation(AdaBoostRegressor(),x_train,y_train,adr_test_score,5)"
      ],
      "metadata": {
        "colab": {
          "base_uri": "https://localhost:8080/"
        },
        "id": "DE12fc73ijIS",
        "outputId": "6d5fc766-5c90-431d-957a-ca6702816010"
      },
      "execution_count": 538,
      "outputs": [
        {
          "output_type": "stream",
          "name": "stdout",
          "text": [
            "\n",
            " [0.86053693 0.88040172 0.69840468 0.72352445 0.64651196] \n",
            "\n",
            "cv.mean                            tesing score               difference\n",
            "76.18759477169704          75.84054256816152                 0.3470522035355028\n"
          ]
        }
      ]
    },
    {
      "cell_type": "code",
      "source": [
        "#cross validatioin of GradientBoostingRegressor\n",
        "cross_validation(GradientBoostingRegressor(),x_train,y_train,gbr_test_score,5)"
      ],
      "metadata": {
        "colab": {
          "base_uri": "https://localhost:8080/"
        },
        "id": "ESaSfldIisuz",
        "outputId": "9df63a7a-b6df-4f78-de48-93f286a406f4"
      },
      "execution_count": 539,
      "outputs": [
        {
          "output_type": "stream",
          "name": "stdout",
          "text": [
            "\n",
            " [0.90655899 0.9194863  0.74664482 0.73789577 0.76336631] \n",
            "\n",
            "cv.mean                            tesing score               difference\n",
            "81.47904381374795          78.10225737377915                 3.376786439968804\n"
          ]
        }
      ]
    },
    {
      "cell_type": "code",
      "source": [
        "#cross validatioin of XGBRegressor\n",
        "cross_validation(XGBRegressor(),x_train,y_train,xgbr_test_score,5)"
      ],
      "metadata": {
        "colab": {
          "base_uri": "https://localhost:8080/"
        },
        "id": "KEGl4nBPi0Ol",
        "outputId": "cba5dde2-a040-4f7f-c7e8-2a658ac75267"
      },
      "execution_count": 540,
      "outputs": [
        {
          "output_type": "stream",
          "name": "stdout",
          "text": [
            "\n",
            " [0.90162292 0.87781609 0.69879311 0.81198075 0.77874334] \n",
            "\n",
            "cv.mean                            tesing score               difference\n",
            "81.37912429736751          74.00449767251831                 7.374626624849201\n"
          ]
        }
      ]
    },
    {
      "cell_type": "markdown",
      "source": [
        "random forest regressor had good score in both condition with minimum difference"
      ],
      "metadata": {
        "id": "vHGE-8k4BaTb"
      }
    },
    {
      "cell_type": "code",
      "source": [
        "param_grid={'n_estimators':[100,200,300],\n",
        "            'min_samples_split':[2,4,6],\n",
        "            'min_samples_leaf':[1,2],\n",
        "            'bootstrap':[True,False],\n",
        "            'max_features':['sqrt', 'log2', None]\n",
        "\n",
        "}\n",
        "grid_search=GridSearchCV(RandomForestRegressor(),param_grid=param_grid)\n",
        "grid_search.fit(x_train,y_train)"
      ],
      "metadata": {
        "colab": {
          "base_uri": "https://localhost:8080/",
          "height": 117
        },
        "id": "22zoicoVBiCv",
        "outputId": "45bebc03-5374-49b7-fade-99489ace3d3a"
      },
      "execution_count": 419,
      "outputs": [
        {
          "output_type": "execute_result",
          "data": {
            "text/plain": [
              "GridSearchCV(estimator=RandomForestRegressor(),\n",
              "             param_grid={'bootstrap': [True, False],\n",
              "                         'max_features': ['sqrt', 'log2', None],\n",
              "                         'min_samples_leaf': [1, 2],\n",
              "                         'min_samples_split': [2, 4, 6],\n",
              "                         'n_estimators': [100, 200, 300]})"
            ],
            "text/html": [
              "<style>#sk-container-id-3 {color: black;background-color: white;}#sk-container-id-3 pre{padding: 0;}#sk-container-id-3 div.sk-toggleable {background-color: white;}#sk-container-id-3 label.sk-toggleable__label {cursor: pointer;display: block;width: 100%;margin-bottom: 0;padding: 0.3em;box-sizing: border-box;text-align: center;}#sk-container-id-3 label.sk-toggleable__label-arrow:before {content: \"▸\";float: left;margin-right: 0.25em;color: #696969;}#sk-container-id-3 label.sk-toggleable__label-arrow:hover:before {color: black;}#sk-container-id-3 div.sk-estimator:hover label.sk-toggleable__label-arrow:before {color: black;}#sk-container-id-3 div.sk-toggleable__content {max-height: 0;max-width: 0;overflow: hidden;text-align: left;background-color: #f0f8ff;}#sk-container-id-3 div.sk-toggleable__content pre {margin: 0.2em;color: black;border-radius: 0.25em;background-color: #f0f8ff;}#sk-container-id-3 input.sk-toggleable__control:checked~div.sk-toggleable__content {max-height: 200px;max-width: 100%;overflow: auto;}#sk-container-id-3 input.sk-toggleable__control:checked~label.sk-toggleable__label-arrow:before {content: \"▾\";}#sk-container-id-3 div.sk-estimator input.sk-toggleable__control:checked~label.sk-toggleable__label {background-color: #d4ebff;}#sk-container-id-3 div.sk-label input.sk-toggleable__control:checked~label.sk-toggleable__label {background-color: #d4ebff;}#sk-container-id-3 input.sk-hidden--visually {border: 0;clip: rect(1px 1px 1px 1px);clip: rect(1px, 1px, 1px, 1px);height: 1px;margin: -1px;overflow: hidden;padding: 0;position: absolute;width: 1px;}#sk-container-id-3 div.sk-estimator {font-family: monospace;background-color: #f0f8ff;border: 1px dotted black;border-radius: 0.25em;box-sizing: border-box;margin-bottom: 0.5em;}#sk-container-id-3 div.sk-estimator:hover {background-color: #d4ebff;}#sk-container-id-3 div.sk-parallel-item::after {content: \"\";width: 100%;border-bottom: 1px solid gray;flex-grow: 1;}#sk-container-id-3 div.sk-label:hover label.sk-toggleable__label {background-color: #d4ebff;}#sk-container-id-3 div.sk-serial::before {content: \"\";position: absolute;border-left: 1px solid gray;box-sizing: border-box;top: 0;bottom: 0;left: 50%;z-index: 0;}#sk-container-id-3 div.sk-serial {display: flex;flex-direction: column;align-items: center;background-color: white;padding-right: 0.2em;padding-left: 0.2em;position: relative;}#sk-container-id-3 div.sk-item {position: relative;z-index: 1;}#sk-container-id-3 div.sk-parallel {display: flex;align-items: stretch;justify-content: center;background-color: white;position: relative;}#sk-container-id-3 div.sk-item::before, #sk-container-id-3 div.sk-parallel-item::before {content: \"\";position: absolute;border-left: 1px solid gray;box-sizing: border-box;top: 0;bottom: 0;left: 50%;z-index: -1;}#sk-container-id-3 div.sk-parallel-item {display: flex;flex-direction: column;z-index: 1;position: relative;background-color: white;}#sk-container-id-3 div.sk-parallel-item:first-child::after {align-self: flex-end;width: 50%;}#sk-container-id-3 div.sk-parallel-item:last-child::after {align-self: flex-start;width: 50%;}#sk-container-id-3 div.sk-parallel-item:only-child::after {width: 0;}#sk-container-id-3 div.sk-dashed-wrapped {border: 1px dashed gray;margin: 0 0.4em 0.5em 0.4em;box-sizing: border-box;padding-bottom: 0.4em;background-color: white;}#sk-container-id-3 div.sk-label label {font-family: monospace;font-weight: bold;display: inline-block;line-height: 1.2em;}#sk-container-id-3 div.sk-label-container {text-align: center;}#sk-container-id-3 div.sk-container {/* jupyter's `normalize.less` sets `[hidden] { display: none; }` but bootstrap.min.css set `[hidden] { display: none !important; }` so we also need the `!important` here to be able to override the default hidden behavior on the sphinx rendered scikit-learn.org. See: https://github.com/scikit-learn/scikit-learn/issues/21755 */display: inline-block !important;position: relative;}#sk-container-id-3 div.sk-text-repr-fallback {display: none;}</style><div id=\"sk-container-id-3\" class=\"sk-top-container\"><div class=\"sk-text-repr-fallback\"><pre>GridSearchCV(estimator=RandomForestRegressor(),\n",
              "             param_grid={&#x27;bootstrap&#x27;: [True, False],\n",
              "                         &#x27;max_features&#x27;: [&#x27;sqrt&#x27;, &#x27;log2&#x27;, None],\n",
              "                         &#x27;min_samples_leaf&#x27;: [1, 2],\n",
              "                         &#x27;min_samples_split&#x27;: [2, 4, 6],\n",
              "                         &#x27;n_estimators&#x27;: [100, 200, 300]})</pre><b>In a Jupyter environment, please rerun this cell to show the HTML representation or trust the notebook. <br />On GitHub, the HTML representation is unable to render, please try loading this page with nbviewer.org.</b></div><div class=\"sk-container\" hidden><div class=\"sk-item sk-dashed-wrapped\"><div class=\"sk-label-container\"><div class=\"sk-label sk-toggleable\"><input class=\"sk-toggleable__control sk-hidden--visually\" id=\"sk-estimator-id-5\" type=\"checkbox\" ><label for=\"sk-estimator-id-5\" class=\"sk-toggleable__label sk-toggleable__label-arrow\">GridSearchCV</label><div class=\"sk-toggleable__content\"><pre>GridSearchCV(estimator=RandomForestRegressor(),\n",
              "             param_grid={&#x27;bootstrap&#x27;: [True, False],\n",
              "                         &#x27;max_features&#x27;: [&#x27;sqrt&#x27;, &#x27;log2&#x27;, None],\n",
              "                         &#x27;min_samples_leaf&#x27;: [1, 2],\n",
              "                         &#x27;min_samples_split&#x27;: [2, 4, 6],\n",
              "                         &#x27;n_estimators&#x27;: [100, 200, 300]})</pre></div></div></div><div class=\"sk-parallel\"><div class=\"sk-parallel-item\"><div class=\"sk-item\"><div class=\"sk-label-container\"><div class=\"sk-label sk-toggleable\"><input class=\"sk-toggleable__control sk-hidden--visually\" id=\"sk-estimator-id-6\" type=\"checkbox\" ><label for=\"sk-estimator-id-6\" class=\"sk-toggleable__label sk-toggleable__label-arrow\">estimator: RandomForestRegressor</label><div class=\"sk-toggleable__content\"><pre>RandomForestRegressor()</pre></div></div></div><div class=\"sk-serial\"><div class=\"sk-item\"><div class=\"sk-estimator sk-toggleable\"><input class=\"sk-toggleable__control sk-hidden--visually\" id=\"sk-estimator-id-7\" type=\"checkbox\" ><label for=\"sk-estimator-id-7\" class=\"sk-toggleable__label sk-toggleable__label-arrow\">RandomForestRegressor</label><div class=\"sk-toggleable__content\"><pre>RandomForestRegressor()</pre></div></div></div></div></div></div></div></div></div></div>"
            ]
          },
          "metadata": {},
          "execution_count": 419
        }
      ]
    },
    {
      "cell_type": "code",
      "source": [
        "grid_search.best_params_"
      ],
      "metadata": {
        "colab": {
          "base_uri": "https://localhost:8080/"
        },
        "id": "RMY0coARFIyx",
        "outputId": "89291a1a-e2ce-42a1-89e8-ad72bf96e8fa"
      },
      "execution_count": 420,
      "outputs": [
        {
          "output_type": "execute_result",
          "data": {
            "text/plain": [
              "{'bootstrap': False,\n",
              " 'max_features': 'sqrt',\n",
              " 'min_samples_leaf': 1,\n",
              " 'min_samples_split': 4,\n",
              " 'n_estimators': 200}"
            ]
          },
          "metadata": {},
          "execution_count": 420
        }
      ]
    },
    {
      "cell_type": "code",
      "source": [
        "tunned_rfr=RandomForestRegressor(bootstrap=True,max_features='sqrt',min_samples_leaf=1,min_samples_split=2,n_estimators=300)\n",
        "tunned_rfr.fit(x_train,y_train)\n",
        "y_pred=tunned_rfr.predict(x_test)\n",
        "test_score=r2_score(y_test,y_pred)\n",
        "print(f'Final tunned model testing score: {test_score*100}')"
      ],
      "metadata": {
        "colab": {
          "base_uri": "https://localhost:8080/"
        },
        "id": "t0Rv5GC3C8FL",
        "outputId": "4fc9fc19-682c-427d-9d9d-be280ce3a0d7"
      },
      "execution_count": 541,
      "outputs": [
        {
          "output_type": "stream",
          "name": "stdout",
          "text": [
            "Final tunned model testing score: 79.28420844758035\n"
          ]
        }
      ]
    },
    {
      "cell_type": "code",
      "source": [
        "#model saving\n",
        "import pickle as pkl\n",
        "pkl.dump(tunned_rfr,open('powerplant_powerpred_rfr.sav','wb'))"
      ],
      "metadata": {
        "id": "qZ07HViWGI4R"
      },
      "execution_count": 542,
      "outputs": []
    },
    {
      "cell_type": "code",
      "source": [
        "#loading model\n",
        "model=pkl.load(open('powerplant_powerpred_rfr.sav','rb'))"
      ],
      "metadata": {
        "id": "1vJUnowQGfAb"
      },
      "execution_count": 543,
      "outputs": []
    },
    {
      "cell_type": "code",
      "source": [
        "cmp_df=pd.DataFrame()\n",
        "cmp_df['y_test_capacity_mw']=y_test\n",
        "cmp_df['y_pred_capacity_mw']=model.predict(x_test)\n",
        "cmp_df.head(50)\n"
      ],
      "metadata": {
        "colab": {
          "base_uri": "https://localhost:8080/",
          "height": 1000
        },
        "id": "mTpVmh4uGrZu",
        "outputId": "bcc95c42-b567-4895-a9d6-cbdf5908eee0"
      },
      "execution_count": 546,
      "outputs": [
        {
          "output_type": "execute_result",
          "data": {
            "text/plain": [
              "     y_test_capacity_mw  y_pred_capacity_mw\n",
              "294              139.20          134.347800\n",
              "473             1200.00          853.299333\n",
              "110              600.00          668.986133\n",
              "491               25.20           50.364667\n",
              "432              180.00          177.643033\n",
              "40                28.00           28.356667\n",
              "643              100.00          208.923437\n",
              "455             1050.00         1348.700000\n",
              "470              660.00          474.665000\n",
              "616               15.20           22.093333\n",
              "508                3.00            3.986000\n",
              "740             1147.50         1351.591733\n",
              "706              110.00          167.949033\n",
              "757              100.00           16.174667\n",
              "875               75.00           67.077333\n",
              "547               60.00          135.151000\n",
              "691             1340.00         1425.900000\n",
              "561              102.00           13.329667\n",
              "876             1260.00         1351.033333\n",
              "346              330.00          251.089333\n",
              "846              300.00          172.705433\n",
              "505               17.00            2.017667\n",
              "232               23.10           28.377500\n",
              "790              440.00          543.352333\n",
              "479                9.00            8.143667\n",
              "582              600.00         1114.804133\n",
              "44              1050.00         1408.836667\n",
              "190                5.00           57.202667\n",
              "475              250.00          135.835267\n",
              "852              600.00          520.391000\n",
              "821             1000.00         1350.706533\n",
              "696               29.00           18.444600\n",
              "283                1.00            7.322667\n",
              "281             1200.00         1610.281733\n",
              "258              156.10          185.376067\n",
              "35                 5.00            5.000000\n",
              "833               24.00            7.707000\n",
              "489               15.00           46.074667\n",
              "468             1000.00         1512.652133\n",
              "381              290.00          297.192903\n",
              "751                5.00           25.781667\n",
              "374               12.00           52.299167\n",
              "814              180.00          342.383060\n",
              "296               96.00          220.777000\n",
              "214              800.00          174.982667\n",
              "169               33.75           47.815000\n",
              "599               30.00          182.080333\n",
              "272              270.00          265.337323\n",
              "837                1.50           87.232000\n",
              "830               50.40           12.619333"
            ],
            "text/html": [
              "\n",
              "  <div id=\"df-3d19f691-a109-49e8-8abf-54ec3ab512eb\" class=\"colab-df-container\">\n",
              "    <div>\n",
              "<style scoped>\n",
              "    .dataframe tbody tr th:only-of-type {\n",
              "        vertical-align: middle;\n",
              "    }\n",
              "\n",
              "    .dataframe tbody tr th {\n",
              "        vertical-align: top;\n",
              "    }\n",
              "\n",
              "    .dataframe thead th {\n",
              "        text-align: right;\n",
              "    }\n",
              "</style>\n",
              "<table border=\"1\" class=\"dataframe\">\n",
              "  <thead>\n",
              "    <tr style=\"text-align: right;\">\n",
              "      <th></th>\n",
              "      <th>y_test_capacity_mw</th>\n",
              "      <th>y_pred_capacity_mw</th>\n",
              "    </tr>\n",
              "  </thead>\n",
              "  <tbody>\n",
              "    <tr>\n",
              "      <th>294</th>\n",
              "      <td>139.20</td>\n",
              "      <td>134.347800</td>\n",
              "    </tr>\n",
              "    <tr>\n",
              "      <th>473</th>\n",
              "      <td>1200.00</td>\n",
              "      <td>853.299333</td>\n",
              "    </tr>\n",
              "    <tr>\n",
              "      <th>110</th>\n",
              "      <td>600.00</td>\n",
              "      <td>668.986133</td>\n",
              "    </tr>\n",
              "    <tr>\n",
              "      <th>491</th>\n",
              "      <td>25.20</td>\n",
              "      <td>50.364667</td>\n",
              "    </tr>\n",
              "    <tr>\n",
              "      <th>432</th>\n",
              "      <td>180.00</td>\n",
              "      <td>177.643033</td>\n",
              "    </tr>\n",
              "    <tr>\n",
              "      <th>40</th>\n",
              "      <td>28.00</td>\n",
              "      <td>28.356667</td>\n",
              "    </tr>\n",
              "    <tr>\n",
              "      <th>643</th>\n",
              "      <td>100.00</td>\n",
              "      <td>208.923437</td>\n",
              "    </tr>\n",
              "    <tr>\n",
              "      <th>455</th>\n",
              "      <td>1050.00</td>\n",
              "      <td>1348.700000</td>\n",
              "    </tr>\n",
              "    <tr>\n",
              "      <th>470</th>\n",
              "      <td>660.00</td>\n",
              "      <td>474.665000</td>\n",
              "    </tr>\n",
              "    <tr>\n",
              "      <th>616</th>\n",
              "      <td>15.20</td>\n",
              "      <td>22.093333</td>\n",
              "    </tr>\n",
              "    <tr>\n",
              "      <th>508</th>\n",
              "      <td>3.00</td>\n",
              "      <td>3.986000</td>\n",
              "    </tr>\n",
              "    <tr>\n",
              "      <th>740</th>\n",
              "      <td>1147.50</td>\n",
              "      <td>1351.591733</td>\n",
              "    </tr>\n",
              "    <tr>\n",
              "      <th>706</th>\n",
              "      <td>110.00</td>\n",
              "      <td>167.949033</td>\n",
              "    </tr>\n",
              "    <tr>\n",
              "      <th>757</th>\n",
              "      <td>100.00</td>\n",
              "      <td>16.174667</td>\n",
              "    </tr>\n",
              "    <tr>\n",
              "      <th>875</th>\n",
              "      <td>75.00</td>\n",
              "      <td>67.077333</td>\n",
              "    </tr>\n",
              "    <tr>\n",
              "      <th>547</th>\n",
              "      <td>60.00</td>\n",
              "      <td>135.151000</td>\n",
              "    </tr>\n",
              "    <tr>\n",
              "      <th>691</th>\n",
              "      <td>1340.00</td>\n",
              "      <td>1425.900000</td>\n",
              "    </tr>\n",
              "    <tr>\n",
              "      <th>561</th>\n",
              "      <td>102.00</td>\n",
              "      <td>13.329667</td>\n",
              "    </tr>\n",
              "    <tr>\n",
              "      <th>876</th>\n",
              "      <td>1260.00</td>\n",
              "      <td>1351.033333</td>\n",
              "    </tr>\n",
              "    <tr>\n",
              "      <th>346</th>\n",
              "      <td>330.00</td>\n",
              "      <td>251.089333</td>\n",
              "    </tr>\n",
              "    <tr>\n",
              "      <th>846</th>\n",
              "      <td>300.00</td>\n",
              "      <td>172.705433</td>\n",
              "    </tr>\n",
              "    <tr>\n",
              "      <th>505</th>\n",
              "      <td>17.00</td>\n",
              "      <td>2.017667</td>\n",
              "    </tr>\n",
              "    <tr>\n",
              "      <th>232</th>\n",
              "      <td>23.10</td>\n",
              "      <td>28.377500</td>\n",
              "    </tr>\n",
              "    <tr>\n",
              "      <th>790</th>\n",
              "      <td>440.00</td>\n",
              "      <td>543.352333</td>\n",
              "    </tr>\n",
              "    <tr>\n",
              "      <th>479</th>\n",
              "      <td>9.00</td>\n",
              "      <td>8.143667</td>\n",
              "    </tr>\n",
              "    <tr>\n",
              "      <th>582</th>\n",
              "      <td>600.00</td>\n",
              "      <td>1114.804133</td>\n",
              "    </tr>\n",
              "    <tr>\n",
              "      <th>44</th>\n",
              "      <td>1050.00</td>\n",
              "      <td>1408.836667</td>\n",
              "    </tr>\n",
              "    <tr>\n",
              "      <th>190</th>\n",
              "      <td>5.00</td>\n",
              "      <td>57.202667</td>\n",
              "    </tr>\n",
              "    <tr>\n",
              "      <th>475</th>\n",
              "      <td>250.00</td>\n",
              "      <td>135.835267</td>\n",
              "    </tr>\n",
              "    <tr>\n",
              "      <th>852</th>\n",
              "      <td>600.00</td>\n",
              "      <td>520.391000</td>\n",
              "    </tr>\n",
              "    <tr>\n",
              "      <th>821</th>\n",
              "      <td>1000.00</td>\n",
              "      <td>1350.706533</td>\n",
              "    </tr>\n",
              "    <tr>\n",
              "      <th>696</th>\n",
              "      <td>29.00</td>\n",
              "      <td>18.444600</td>\n",
              "    </tr>\n",
              "    <tr>\n",
              "      <th>283</th>\n",
              "      <td>1.00</td>\n",
              "      <td>7.322667</td>\n",
              "    </tr>\n",
              "    <tr>\n",
              "      <th>281</th>\n",
              "      <td>1200.00</td>\n",
              "      <td>1610.281733</td>\n",
              "    </tr>\n",
              "    <tr>\n",
              "      <th>258</th>\n",
              "      <td>156.10</td>\n",
              "      <td>185.376067</td>\n",
              "    </tr>\n",
              "    <tr>\n",
              "      <th>35</th>\n",
              "      <td>5.00</td>\n",
              "      <td>5.000000</td>\n",
              "    </tr>\n",
              "    <tr>\n",
              "      <th>833</th>\n",
              "      <td>24.00</td>\n",
              "      <td>7.707000</td>\n",
              "    </tr>\n",
              "    <tr>\n",
              "      <th>489</th>\n",
              "      <td>15.00</td>\n",
              "      <td>46.074667</td>\n",
              "    </tr>\n",
              "    <tr>\n",
              "      <th>468</th>\n",
              "      <td>1000.00</td>\n",
              "      <td>1512.652133</td>\n",
              "    </tr>\n",
              "    <tr>\n",
              "      <th>381</th>\n",
              "      <td>290.00</td>\n",
              "      <td>297.192903</td>\n",
              "    </tr>\n",
              "    <tr>\n",
              "      <th>751</th>\n",
              "      <td>5.00</td>\n",
              "      <td>25.781667</td>\n",
              "    </tr>\n",
              "    <tr>\n",
              "      <th>374</th>\n",
              "      <td>12.00</td>\n",
              "      <td>52.299167</td>\n",
              "    </tr>\n",
              "    <tr>\n",
              "      <th>814</th>\n",
              "      <td>180.00</td>\n",
              "      <td>342.383060</td>\n",
              "    </tr>\n",
              "    <tr>\n",
              "      <th>296</th>\n",
              "      <td>96.00</td>\n",
              "      <td>220.777000</td>\n",
              "    </tr>\n",
              "    <tr>\n",
              "      <th>214</th>\n",
              "      <td>800.00</td>\n",
              "      <td>174.982667</td>\n",
              "    </tr>\n",
              "    <tr>\n",
              "      <th>169</th>\n",
              "      <td>33.75</td>\n",
              "      <td>47.815000</td>\n",
              "    </tr>\n",
              "    <tr>\n",
              "      <th>599</th>\n",
              "      <td>30.00</td>\n",
              "      <td>182.080333</td>\n",
              "    </tr>\n",
              "    <tr>\n",
              "      <th>272</th>\n",
              "      <td>270.00</td>\n",
              "      <td>265.337323</td>\n",
              "    </tr>\n",
              "    <tr>\n",
              "      <th>837</th>\n",
              "      <td>1.50</td>\n",
              "      <td>87.232000</td>\n",
              "    </tr>\n",
              "    <tr>\n",
              "      <th>830</th>\n",
              "      <td>50.40</td>\n",
              "      <td>12.619333</td>\n",
              "    </tr>\n",
              "  </tbody>\n",
              "</table>\n",
              "</div>\n",
              "    <div class=\"colab-df-buttons\">\n",
              "\n",
              "  <div class=\"colab-df-container\">\n",
              "    <button class=\"colab-df-convert\" onclick=\"convertToInteractive('df-3d19f691-a109-49e8-8abf-54ec3ab512eb')\"\n",
              "            title=\"Convert this dataframe to an interactive table.\"\n",
              "            style=\"display:none;\">\n",
              "\n",
              "  <svg xmlns=\"http://www.w3.org/2000/svg\" height=\"24px\" viewBox=\"0 -960 960 960\">\n",
              "    <path d=\"M120-120v-720h720v720H120Zm60-500h600v-160H180v160Zm220 220h160v-160H400v160Zm0 220h160v-160H400v160ZM180-400h160v-160H180v160Zm440 0h160v-160H620v160ZM180-180h160v-160H180v160Zm440 0h160v-160H620v160Z\"/>\n",
              "  </svg>\n",
              "    </button>\n",
              "\n",
              "  <style>\n",
              "    .colab-df-container {\n",
              "      display:flex;\n",
              "      gap: 12px;\n",
              "    }\n",
              "\n",
              "    .colab-df-convert {\n",
              "      background-color: #E8F0FE;\n",
              "      border: none;\n",
              "      border-radius: 50%;\n",
              "      cursor: pointer;\n",
              "      display: none;\n",
              "      fill: #1967D2;\n",
              "      height: 32px;\n",
              "      padding: 0 0 0 0;\n",
              "      width: 32px;\n",
              "    }\n",
              "\n",
              "    .colab-df-convert:hover {\n",
              "      background-color: #E2EBFA;\n",
              "      box-shadow: 0px 1px 2px rgba(60, 64, 67, 0.3), 0px 1px 3px 1px rgba(60, 64, 67, 0.15);\n",
              "      fill: #174EA6;\n",
              "    }\n",
              "\n",
              "    .colab-df-buttons div {\n",
              "      margin-bottom: 4px;\n",
              "    }\n",
              "\n",
              "    [theme=dark] .colab-df-convert {\n",
              "      background-color: #3B4455;\n",
              "      fill: #D2E3FC;\n",
              "    }\n",
              "\n",
              "    [theme=dark] .colab-df-convert:hover {\n",
              "      background-color: #434B5C;\n",
              "      box-shadow: 0px 1px 3px 1px rgba(0, 0, 0, 0.15);\n",
              "      filter: drop-shadow(0px 1px 2px rgba(0, 0, 0, 0.3));\n",
              "      fill: #FFFFFF;\n",
              "    }\n",
              "  </style>\n",
              "\n",
              "    <script>\n",
              "      const buttonEl =\n",
              "        document.querySelector('#df-3d19f691-a109-49e8-8abf-54ec3ab512eb button.colab-df-convert');\n",
              "      buttonEl.style.display =\n",
              "        google.colab.kernel.accessAllowed ? 'block' : 'none';\n",
              "\n",
              "      async function convertToInteractive(key) {\n",
              "        const element = document.querySelector('#df-3d19f691-a109-49e8-8abf-54ec3ab512eb');\n",
              "        const dataTable =\n",
              "          await google.colab.kernel.invokeFunction('convertToInteractive',\n",
              "                                                    [key], {});\n",
              "        if (!dataTable) return;\n",
              "\n",
              "        const docLinkHtml = 'Like what you see? Visit the ' +\n",
              "          '<a target=\"_blank\" href=https://colab.research.google.com/notebooks/data_table.ipynb>data table notebook</a>'\n",
              "          + ' to learn more about interactive tables.';\n",
              "        element.innerHTML = '';\n",
              "        dataTable['output_type'] = 'display_data';\n",
              "        await google.colab.output.renderOutput(dataTable, element);\n",
              "        const docLink = document.createElement('div');\n",
              "        docLink.innerHTML = docLinkHtml;\n",
              "        element.appendChild(docLink);\n",
              "      }\n",
              "    </script>\n",
              "  </div>\n",
              "\n",
              "\n",
              "<div id=\"df-ffa68eec-b3af-4ecc-9f31-3d02235b519f\">\n",
              "  <button class=\"colab-df-quickchart\" onclick=\"quickchart('df-ffa68eec-b3af-4ecc-9f31-3d02235b519f')\"\n",
              "            title=\"Suggest charts\"\n",
              "            style=\"display:none;\">\n",
              "\n",
              "<svg xmlns=\"http://www.w3.org/2000/svg\" height=\"24px\"viewBox=\"0 0 24 24\"\n",
              "     width=\"24px\">\n",
              "    <g>\n",
              "        <path d=\"M19 3H5c-1.1 0-2 .9-2 2v14c0 1.1.9 2 2 2h14c1.1 0 2-.9 2-2V5c0-1.1-.9-2-2-2zM9 17H7v-7h2v7zm4 0h-2V7h2v10zm4 0h-2v-4h2v4z\"/>\n",
              "    </g>\n",
              "</svg>\n",
              "  </button>\n",
              "\n",
              "<style>\n",
              "  .colab-df-quickchart {\n",
              "      --bg-color: #E8F0FE;\n",
              "      --fill-color: #1967D2;\n",
              "      --hover-bg-color: #E2EBFA;\n",
              "      --hover-fill-color: #174EA6;\n",
              "      --disabled-fill-color: #AAA;\n",
              "      --disabled-bg-color: #DDD;\n",
              "  }\n",
              "\n",
              "  [theme=dark] .colab-df-quickchart {\n",
              "      --bg-color: #3B4455;\n",
              "      --fill-color: #D2E3FC;\n",
              "      --hover-bg-color: #434B5C;\n",
              "      --hover-fill-color: #FFFFFF;\n",
              "      --disabled-bg-color: #3B4455;\n",
              "      --disabled-fill-color: #666;\n",
              "  }\n",
              "\n",
              "  .colab-df-quickchart {\n",
              "    background-color: var(--bg-color);\n",
              "    border: none;\n",
              "    border-radius: 50%;\n",
              "    cursor: pointer;\n",
              "    display: none;\n",
              "    fill: var(--fill-color);\n",
              "    height: 32px;\n",
              "    padding: 0;\n",
              "    width: 32px;\n",
              "  }\n",
              "\n",
              "  .colab-df-quickchart:hover {\n",
              "    background-color: var(--hover-bg-color);\n",
              "    box-shadow: 0 1px 2px rgba(60, 64, 67, 0.3), 0 1px 3px 1px rgba(60, 64, 67, 0.15);\n",
              "    fill: var(--button-hover-fill-color);\n",
              "  }\n",
              "\n",
              "  .colab-df-quickchart-complete:disabled,\n",
              "  .colab-df-quickchart-complete:disabled:hover {\n",
              "    background-color: var(--disabled-bg-color);\n",
              "    fill: var(--disabled-fill-color);\n",
              "    box-shadow: none;\n",
              "  }\n",
              "\n",
              "  .colab-df-spinner {\n",
              "    border: 2px solid var(--fill-color);\n",
              "    border-color: transparent;\n",
              "    border-bottom-color: var(--fill-color);\n",
              "    animation:\n",
              "      spin 1s steps(1) infinite;\n",
              "  }\n",
              "\n",
              "  @keyframes spin {\n",
              "    0% {\n",
              "      border-color: transparent;\n",
              "      border-bottom-color: var(--fill-color);\n",
              "      border-left-color: var(--fill-color);\n",
              "    }\n",
              "    20% {\n",
              "      border-color: transparent;\n",
              "      border-left-color: var(--fill-color);\n",
              "      border-top-color: var(--fill-color);\n",
              "    }\n",
              "    30% {\n",
              "      border-color: transparent;\n",
              "      border-left-color: var(--fill-color);\n",
              "      border-top-color: var(--fill-color);\n",
              "      border-right-color: var(--fill-color);\n",
              "    }\n",
              "    40% {\n",
              "      border-color: transparent;\n",
              "      border-right-color: var(--fill-color);\n",
              "      border-top-color: var(--fill-color);\n",
              "    }\n",
              "    60% {\n",
              "      border-color: transparent;\n",
              "      border-right-color: var(--fill-color);\n",
              "    }\n",
              "    80% {\n",
              "      border-color: transparent;\n",
              "      border-right-color: var(--fill-color);\n",
              "      border-bottom-color: var(--fill-color);\n",
              "    }\n",
              "    90% {\n",
              "      border-color: transparent;\n",
              "      border-bottom-color: var(--fill-color);\n",
              "    }\n",
              "  }\n",
              "</style>\n",
              "\n",
              "  <script>\n",
              "    async function quickchart(key) {\n",
              "      const quickchartButtonEl =\n",
              "        document.querySelector('#' + key + ' button');\n",
              "      quickchartButtonEl.disabled = true;  // To prevent multiple clicks.\n",
              "      quickchartButtonEl.classList.add('colab-df-spinner');\n",
              "      try {\n",
              "        const charts = await google.colab.kernel.invokeFunction(\n",
              "            'suggestCharts', [key], {});\n",
              "      } catch (error) {\n",
              "        console.error('Error during call to suggestCharts:', error);\n",
              "      }\n",
              "      quickchartButtonEl.classList.remove('colab-df-spinner');\n",
              "      quickchartButtonEl.classList.add('colab-df-quickchart-complete');\n",
              "    }\n",
              "    (() => {\n",
              "      let quickchartButtonEl =\n",
              "        document.querySelector('#df-ffa68eec-b3af-4ecc-9f31-3d02235b519f button');\n",
              "      quickchartButtonEl.style.display =\n",
              "        google.colab.kernel.accessAllowed ? 'block' : 'none';\n",
              "    })();\n",
              "  </script>\n",
              "</div>\n",
              "    </div>\n",
              "  </div>\n"
            ]
          },
          "metadata": {},
          "execution_count": 546
        }
      ]
    },
    {
      "cell_type": "markdown",
      "source": [
        "# Predicting Primary Fuel"
      ],
      "metadata": {
        "id": "kD8fGCEL9trj"
      }
    },
    {
      "cell_type": "code",
      "source": [
        "df"
      ],
      "metadata": {
        "colab": {
          "base_uri": "https://localhost:8080/",
          "height": 423
        },
        "id": "kj7DgN1nBoFp",
        "outputId": "45cf5543-4419-446d-ecd5-058334094d52"
      },
      "execution_count": 425,
      "outputs": [
        {
          "output_type": "execute_result",
          "data": {
            "text/plain": [
              "     gppd_idnr  capacity_mw  primary_fuel  generation_gwh_2014  \\\n",
              "0          657          2.5             6           801.123775   \n",
              "1          519         98.0             1           801.123775   \n",
              "2          853         39.2             7           801.123775   \n",
              "3            0        135.0             2           617.789264   \n",
              "4            1       1800.0             1          3035.550000   \n",
              "..         ...          ...           ...                  ...   \n",
              "902        491       1600.0             1           801.123775   \n",
              "903        822          3.0             6           801.123775   \n",
              "904        891         25.5             7           801.123775   \n",
              "905        539         80.0             1           801.123775   \n",
              "906        876         16.5             7           801.123775   \n",
              "\n",
              "     generation_gwh_2015  generation_gwh_2016  generation_gwh_2017  \\\n",
              "0             711.181225           737.205450           817.977250   \n",
              "1             711.181225           737.205450           817.977250   \n",
              "2             711.181225           737.205450           817.977250   \n",
              "3             843.747000           886.004428           663.774500   \n",
              "4            5916.370000          6243.000000          5385.579736   \n",
              "..                   ...                  ...                  ...   \n",
              "902             0.994875           233.596650           865.400000   \n",
              "903           711.181225           737.205450           817.977250   \n",
              "904           711.181225           737.205450           817.977250   \n",
              "905           711.181225           737.205450           817.977250   \n",
              "906           711.181225           737.205450           817.977250   \n",
              "\n",
              "     generation_gwh_2018  \n",
              "0             751.644375  \n",
              "1             751.644375  \n",
              "2             751.644375  \n",
              "3             626.239128  \n",
              "4            7279.000000  \n",
              "..                   ...  \n",
              "902           686.500000  \n",
              "903           751.644375  \n",
              "904           751.644375  \n",
              "905           751.644375  \n",
              "906           751.644375  \n",
              "\n",
              "[907 rows x 8 columns]"
            ],
            "text/html": [
              "\n",
              "  <div id=\"df-69ba330d-fa7b-41c6-9f4d-245b3bb09451\" class=\"colab-df-container\">\n",
              "    <div>\n",
              "<style scoped>\n",
              "    .dataframe tbody tr th:only-of-type {\n",
              "        vertical-align: middle;\n",
              "    }\n",
              "\n",
              "    .dataframe tbody tr th {\n",
              "        vertical-align: top;\n",
              "    }\n",
              "\n",
              "    .dataframe thead th {\n",
              "        text-align: right;\n",
              "    }\n",
              "</style>\n",
              "<table border=\"1\" class=\"dataframe\">\n",
              "  <thead>\n",
              "    <tr style=\"text-align: right;\">\n",
              "      <th></th>\n",
              "      <th>gppd_idnr</th>\n",
              "      <th>capacity_mw</th>\n",
              "      <th>primary_fuel</th>\n",
              "      <th>generation_gwh_2014</th>\n",
              "      <th>generation_gwh_2015</th>\n",
              "      <th>generation_gwh_2016</th>\n",
              "      <th>generation_gwh_2017</th>\n",
              "      <th>generation_gwh_2018</th>\n",
              "    </tr>\n",
              "  </thead>\n",
              "  <tbody>\n",
              "    <tr>\n",
              "      <th>0</th>\n",
              "      <td>657</td>\n",
              "      <td>2.5</td>\n",
              "      <td>6</td>\n",
              "      <td>801.123775</td>\n",
              "      <td>711.181225</td>\n",
              "      <td>737.205450</td>\n",
              "      <td>817.977250</td>\n",
              "      <td>751.644375</td>\n",
              "    </tr>\n",
              "    <tr>\n",
              "      <th>1</th>\n",
              "      <td>519</td>\n",
              "      <td>98.0</td>\n",
              "      <td>1</td>\n",
              "      <td>801.123775</td>\n",
              "      <td>711.181225</td>\n",
              "      <td>737.205450</td>\n",
              "      <td>817.977250</td>\n",
              "      <td>751.644375</td>\n",
              "    </tr>\n",
              "    <tr>\n",
              "      <th>2</th>\n",
              "      <td>853</td>\n",
              "      <td>39.2</td>\n",
              "      <td>7</td>\n",
              "      <td>801.123775</td>\n",
              "      <td>711.181225</td>\n",
              "      <td>737.205450</td>\n",
              "      <td>817.977250</td>\n",
              "      <td>751.644375</td>\n",
              "    </tr>\n",
              "    <tr>\n",
              "      <th>3</th>\n",
              "      <td>0</td>\n",
              "      <td>135.0</td>\n",
              "      <td>2</td>\n",
              "      <td>617.789264</td>\n",
              "      <td>843.747000</td>\n",
              "      <td>886.004428</td>\n",
              "      <td>663.774500</td>\n",
              "      <td>626.239128</td>\n",
              "    </tr>\n",
              "    <tr>\n",
              "      <th>4</th>\n",
              "      <td>1</td>\n",
              "      <td>1800.0</td>\n",
              "      <td>1</td>\n",
              "      <td>3035.550000</td>\n",
              "      <td>5916.370000</td>\n",
              "      <td>6243.000000</td>\n",
              "      <td>5385.579736</td>\n",
              "      <td>7279.000000</td>\n",
              "    </tr>\n",
              "    <tr>\n",
              "      <th>...</th>\n",
              "      <td>...</td>\n",
              "      <td>...</td>\n",
              "      <td>...</td>\n",
              "      <td>...</td>\n",
              "      <td>...</td>\n",
              "      <td>...</td>\n",
              "      <td>...</td>\n",
              "      <td>...</td>\n",
              "    </tr>\n",
              "    <tr>\n",
              "      <th>902</th>\n",
              "      <td>491</td>\n",
              "      <td>1600.0</td>\n",
              "      <td>1</td>\n",
              "      <td>801.123775</td>\n",
              "      <td>0.994875</td>\n",
              "      <td>233.596650</td>\n",
              "      <td>865.400000</td>\n",
              "      <td>686.500000</td>\n",
              "    </tr>\n",
              "    <tr>\n",
              "      <th>903</th>\n",
              "      <td>822</td>\n",
              "      <td>3.0</td>\n",
              "      <td>6</td>\n",
              "      <td>801.123775</td>\n",
              "      <td>711.181225</td>\n",
              "      <td>737.205450</td>\n",
              "      <td>817.977250</td>\n",
              "      <td>751.644375</td>\n",
              "    </tr>\n",
              "    <tr>\n",
              "      <th>904</th>\n",
              "      <td>891</td>\n",
              "      <td>25.5</td>\n",
              "      <td>7</td>\n",
              "      <td>801.123775</td>\n",
              "      <td>711.181225</td>\n",
              "      <td>737.205450</td>\n",
              "      <td>817.977250</td>\n",
              "      <td>751.644375</td>\n",
              "    </tr>\n",
              "    <tr>\n",
              "      <th>905</th>\n",
              "      <td>539</td>\n",
              "      <td>80.0</td>\n",
              "      <td>1</td>\n",
              "      <td>801.123775</td>\n",
              "      <td>711.181225</td>\n",
              "      <td>737.205450</td>\n",
              "      <td>817.977250</td>\n",
              "      <td>751.644375</td>\n",
              "    </tr>\n",
              "    <tr>\n",
              "      <th>906</th>\n",
              "      <td>876</td>\n",
              "      <td>16.5</td>\n",
              "      <td>7</td>\n",
              "      <td>801.123775</td>\n",
              "      <td>711.181225</td>\n",
              "      <td>737.205450</td>\n",
              "      <td>817.977250</td>\n",
              "      <td>751.644375</td>\n",
              "    </tr>\n",
              "  </tbody>\n",
              "</table>\n",
              "<p>907 rows × 8 columns</p>\n",
              "</div>\n",
              "    <div class=\"colab-df-buttons\">\n",
              "\n",
              "  <div class=\"colab-df-container\">\n",
              "    <button class=\"colab-df-convert\" onclick=\"convertToInteractive('df-69ba330d-fa7b-41c6-9f4d-245b3bb09451')\"\n",
              "            title=\"Convert this dataframe to an interactive table.\"\n",
              "            style=\"display:none;\">\n",
              "\n",
              "  <svg xmlns=\"http://www.w3.org/2000/svg\" height=\"24px\" viewBox=\"0 -960 960 960\">\n",
              "    <path d=\"M120-120v-720h720v720H120Zm60-500h600v-160H180v160Zm220 220h160v-160H400v160Zm0 220h160v-160H400v160ZM180-400h160v-160H180v160Zm440 0h160v-160H620v160ZM180-180h160v-160H180v160Zm440 0h160v-160H620v160Z\"/>\n",
              "  </svg>\n",
              "    </button>\n",
              "\n",
              "  <style>\n",
              "    .colab-df-container {\n",
              "      display:flex;\n",
              "      gap: 12px;\n",
              "    }\n",
              "\n",
              "    .colab-df-convert {\n",
              "      background-color: #E8F0FE;\n",
              "      border: none;\n",
              "      border-radius: 50%;\n",
              "      cursor: pointer;\n",
              "      display: none;\n",
              "      fill: #1967D2;\n",
              "      height: 32px;\n",
              "      padding: 0 0 0 0;\n",
              "      width: 32px;\n",
              "    }\n",
              "\n",
              "    .colab-df-convert:hover {\n",
              "      background-color: #E2EBFA;\n",
              "      box-shadow: 0px 1px 2px rgba(60, 64, 67, 0.3), 0px 1px 3px 1px rgba(60, 64, 67, 0.15);\n",
              "      fill: #174EA6;\n",
              "    }\n",
              "\n",
              "    .colab-df-buttons div {\n",
              "      margin-bottom: 4px;\n",
              "    }\n",
              "\n",
              "    [theme=dark] .colab-df-convert {\n",
              "      background-color: #3B4455;\n",
              "      fill: #D2E3FC;\n",
              "    }\n",
              "\n",
              "    [theme=dark] .colab-df-convert:hover {\n",
              "      background-color: #434B5C;\n",
              "      box-shadow: 0px 1px 3px 1px rgba(0, 0, 0, 0.15);\n",
              "      filter: drop-shadow(0px 1px 2px rgba(0, 0, 0, 0.3));\n",
              "      fill: #FFFFFF;\n",
              "    }\n",
              "  </style>\n",
              "\n",
              "    <script>\n",
              "      const buttonEl =\n",
              "        document.querySelector('#df-69ba330d-fa7b-41c6-9f4d-245b3bb09451 button.colab-df-convert');\n",
              "      buttonEl.style.display =\n",
              "        google.colab.kernel.accessAllowed ? 'block' : 'none';\n",
              "\n",
              "      async function convertToInteractive(key) {\n",
              "        const element = document.querySelector('#df-69ba330d-fa7b-41c6-9f4d-245b3bb09451');\n",
              "        const dataTable =\n",
              "          await google.colab.kernel.invokeFunction('convertToInteractive',\n",
              "                                                    [key], {});\n",
              "        if (!dataTable) return;\n",
              "\n",
              "        const docLinkHtml = 'Like what you see? Visit the ' +\n",
              "          '<a target=\"_blank\" href=https://colab.research.google.com/notebooks/data_table.ipynb>data table notebook</a>'\n",
              "          + ' to learn more about interactive tables.';\n",
              "        element.innerHTML = '';\n",
              "        dataTable['output_type'] = 'display_data';\n",
              "        await google.colab.output.renderOutput(dataTable, element);\n",
              "        const docLink = document.createElement('div');\n",
              "        docLink.innerHTML = docLinkHtml;\n",
              "        element.appendChild(docLink);\n",
              "      }\n",
              "    </script>\n",
              "  </div>\n",
              "\n",
              "\n",
              "<div id=\"df-4db33675-c4d3-40b1-a44c-8f09b277fd63\">\n",
              "  <button class=\"colab-df-quickchart\" onclick=\"quickchart('df-4db33675-c4d3-40b1-a44c-8f09b277fd63')\"\n",
              "            title=\"Suggest charts\"\n",
              "            style=\"display:none;\">\n",
              "\n",
              "<svg xmlns=\"http://www.w3.org/2000/svg\" height=\"24px\"viewBox=\"0 0 24 24\"\n",
              "     width=\"24px\">\n",
              "    <g>\n",
              "        <path d=\"M19 3H5c-1.1 0-2 .9-2 2v14c0 1.1.9 2 2 2h14c1.1 0 2-.9 2-2V5c0-1.1-.9-2-2-2zM9 17H7v-7h2v7zm4 0h-2V7h2v10zm4 0h-2v-4h2v4z\"/>\n",
              "    </g>\n",
              "</svg>\n",
              "  </button>\n",
              "\n",
              "<style>\n",
              "  .colab-df-quickchart {\n",
              "      --bg-color: #E8F0FE;\n",
              "      --fill-color: #1967D2;\n",
              "      --hover-bg-color: #E2EBFA;\n",
              "      --hover-fill-color: #174EA6;\n",
              "      --disabled-fill-color: #AAA;\n",
              "      --disabled-bg-color: #DDD;\n",
              "  }\n",
              "\n",
              "  [theme=dark] .colab-df-quickchart {\n",
              "      --bg-color: #3B4455;\n",
              "      --fill-color: #D2E3FC;\n",
              "      --hover-bg-color: #434B5C;\n",
              "      --hover-fill-color: #FFFFFF;\n",
              "      --disabled-bg-color: #3B4455;\n",
              "      --disabled-fill-color: #666;\n",
              "  }\n",
              "\n",
              "  .colab-df-quickchart {\n",
              "    background-color: var(--bg-color);\n",
              "    border: none;\n",
              "    border-radius: 50%;\n",
              "    cursor: pointer;\n",
              "    display: none;\n",
              "    fill: var(--fill-color);\n",
              "    height: 32px;\n",
              "    padding: 0;\n",
              "    width: 32px;\n",
              "  }\n",
              "\n",
              "  .colab-df-quickchart:hover {\n",
              "    background-color: var(--hover-bg-color);\n",
              "    box-shadow: 0 1px 2px rgba(60, 64, 67, 0.3), 0 1px 3px 1px rgba(60, 64, 67, 0.15);\n",
              "    fill: var(--button-hover-fill-color);\n",
              "  }\n",
              "\n",
              "  .colab-df-quickchart-complete:disabled,\n",
              "  .colab-df-quickchart-complete:disabled:hover {\n",
              "    background-color: var(--disabled-bg-color);\n",
              "    fill: var(--disabled-fill-color);\n",
              "    box-shadow: none;\n",
              "  }\n",
              "\n",
              "  .colab-df-spinner {\n",
              "    border: 2px solid var(--fill-color);\n",
              "    border-color: transparent;\n",
              "    border-bottom-color: var(--fill-color);\n",
              "    animation:\n",
              "      spin 1s steps(1) infinite;\n",
              "  }\n",
              "\n",
              "  @keyframes spin {\n",
              "    0% {\n",
              "      border-color: transparent;\n",
              "      border-bottom-color: var(--fill-color);\n",
              "      border-left-color: var(--fill-color);\n",
              "    }\n",
              "    20% {\n",
              "      border-color: transparent;\n",
              "      border-left-color: var(--fill-color);\n",
              "      border-top-color: var(--fill-color);\n",
              "    }\n",
              "    30% {\n",
              "      border-color: transparent;\n",
              "      border-left-color: var(--fill-color);\n",
              "      border-top-color: var(--fill-color);\n",
              "      border-right-color: var(--fill-color);\n",
              "    }\n",
              "    40% {\n",
              "      border-color: transparent;\n",
              "      border-right-color: var(--fill-color);\n",
              "      border-top-color: var(--fill-color);\n",
              "    }\n",
              "    60% {\n",
              "      border-color: transparent;\n",
              "      border-right-color: var(--fill-color);\n",
              "    }\n",
              "    80% {\n",
              "      border-color: transparent;\n",
              "      border-right-color: var(--fill-color);\n",
              "      border-bottom-color: var(--fill-color);\n",
              "    }\n",
              "    90% {\n",
              "      border-color: transparent;\n",
              "      border-bottom-color: var(--fill-color);\n",
              "    }\n",
              "  }\n",
              "</style>\n",
              "\n",
              "  <script>\n",
              "    async function quickchart(key) {\n",
              "      const quickchartButtonEl =\n",
              "        document.querySelector('#' + key + ' button');\n",
              "      quickchartButtonEl.disabled = true;  // To prevent multiple clicks.\n",
              "      quickchartButtonEl.classList.add('colab-df-spinner');\n",
              "      try {\n",
              "        const charts = await google.colab.kernel.invokeFunction(\n",
              "            'suggestCharts', [key], {});\n",
              "      } catch (error) {\n",
              "        console.error('Error during call to suggestCharts:', error);\n",
              "      }\n",
              "      quickchartButtonEl.classList.remove('colab-df-spinner');\n",
              "      quickchartButtonEl.classList.add('colab-df-quickchart-complete');\n",
              "    }\n",
              "    (() => {\n",
              "      let quickchartButtonEl =\n",
              "        document.querySelector('#df-4db33675-c4d3-40b1-a44c-8f09b277fd63 button');\n",
              "      quickchartButtonEl.style.display =\n",
              "        google.colab.kernel.accessAllowed ? 'block' : 'none';\n",
              "    })();\n",
              "  </script>\n",
              "</div>\n",
              "    </div>\n",
              "  </div>\n"
            ]
          },
          "metadata": {},
          "execution_count": 425
        }
      ]
    },
    {
      "cell_type": "code",
      "source": [
        "XC=df.drop(columns=['primary_fuel','generation_gwh_2017'],axis=1)\n",
        "yc=df['primary_fuel']"
      ],
      "metadata": {
        "id": "MYSXtUlk-KdP"
      },
      "execution_count": 426,
      "outputs": []
    },
    {
      "cell_type": "code",
      "source": [
        "scal_c=StandardScaler()\n",
        "xc_scal=scal_c.fit_transform(XC)"
      ],
      "metadata": {
        "id": "wZtPfVDh_G1G"
      },
      "execution_count": 427,
      "outputs": []
    },
    {
      "cell_type": "code",
      "source": [
        "#finding best random state\n",
        "maxscr_c=0\n",
        "ind_c=0\n",
        "for i in range(100):\n",
        "  xc_train,xc_test,yc_train,yc_test=train_test_split(xc_scal,yc,test_size=0.20,random_state=i)\n",
        "  lrc=LogisticRegression()\n",
        "  lrc.fit(xc_train,yc_train)\n",
        "  yc_pred=lrc.predict(xc_test)\n",
        "  scr_c=accuracy_score(yc_test,yc_pred)\n",
        "  if scr_c > maxscr_c:\n",
        "    maxscr_c=scr_c\n",
        "    ind_c=i\n",
        "\n",
        "print(f'maxscore {maxscr_c} at index {ind_c}')"
      ],
      "metadata": {
        "colab": {
          "base_uri": "https://localhost:8080/"
        },
        "id": "pUyml5YZ-5x0",
        "outputId": "21281dbc-cf3e-44d3-a485-67acd5a9e1fe"
      },
      "execution_count": 428,
      "outputs": [
        {
          "output_type": "stream",
          "name": "stdout",
          "text": [
            "maxscore 0.7362637362637363 at index 0\n"
          ]
        }
      ]
    },
    {
      "cell_type": "code",
      "source": [
        "xc_train,xc_test,yc_train,yc_test=train_test_split(xc_scal,yc,test_size=0.20,random_state=ind_c)"
      ],
      "metadata": {
        "id": "MlBsDphMw4Ou"
      },
      "execution_count": 429,
      "outputs": []
    },
    {
      "cell_type": "code",
      "source": [
        "#bulding LogisticRegression\n",
        "lrc=LogisticRegression()\n",
        "lrc.fit(xc_train,yc_train)\n",
        "print('-'*15,'Training Score','-'*15)\n",
        "print(accuracy_score(yc_train,lrc.predict(xc_train)))\n",
        "print('-'*15,'Testing Score','-'*15)\n",
        "lrc_y_pred=lrc.predict(xc_test)\n",
        "lrc_test_score=accuracy_score(yc_test,lrc_y_pred)\n",
        "print(lrc_test_score)"
      ],
      "metadata": {
        "colab": {
          "base_uri": "https://localhost:8080/"
        },
        "id": "sdpFjcU5G9kr",
        "outputId": "43a815df-e6d9-48f3-e675-7c9a25fe6d9b"
      },
      "execution_count": 430,
      "outputs": [
        {
          "output_type": "stream",
          "name": "stdout",
          "text": [
            "--------------- Training Score ---------------\n",
            "0.6510344827586206\n",
            "--------------- Testing Score ---------------\n",
            "0.6428571428571429\n"
          ]
        }
      ]
    },
    {
      "cell_type": "code",
      "source": [
        "#bulding kneighborsregressor\n",
        "knc=KNeighborsClassifier()\n",
        "knc.fit(xc_train,yc_train)\n",
        "print('-'*15,'Training Score','-'*15)\n",
        "print(accuracy_score(yc_train,knc.predict(xc_train)))\n",
        "print('-'*15,'Testing Score','-'*15)\n",
        "knc_y_pred=knc.predict(xc_test)\n",
        "knc_test_score=accuracy_score(yc_test,knc_y_pred)\n",
        "print(knc_test_score)"
      ],
      "metadata": {
        "colab": {
          "base_uri": "https://localhost:8080/"
        },
        "id": "z-OqpbrIG-C-",
        "outputId": "36c97d57-2443-4fca-decf-3ec6f420fa9e"
      },
      "execution_count": 431,
      "outputs": [
        {
          "output_type": "stream",
          "name": "stdout",
          "text": [
            "--------------- Training Score ---------------\n",
            "0.8524137931034482\n",
            "--------------- Testing Score ---------------\n",
            "0.7142857142857143\n"
          ]
        }
      ]
    },
    {
      "cell_type": "code",
      "source": [
        "#bulding svc\n",
        "svc=SVC()\n",
        "svc.fit(xc_train,yc_train)\n",
        "print('-'*15,'Training Score','-'*15)\n",
        "print(accuracy_score(yc_train,svc.predict(xc_train)))\n",
        "print('-'*15,'Testing Score','-'*15)\n",
        "svc_y_pred=svc.predict(xc_test)\n",
        "svc_test_score=accuracy_score(yc_test,svc_y_pred)\n",
        "print(svc_test_score)"
      ],
      "metadata": {
        "colab": {
          "base_uri": "https://localhost:8080/"
        },
        "id": "WkU1k1BqG-Fy",
        "outputId": "15096232-8fd2-4cf9-887b-7cc922911080"
      },
      "execution_count": 432,
      "outputs": [
        {
          "output_type": "stream",
          "name": "stdout",
          "text": [
            "--------------- Training Score ---------------\n",
            "0.6937931034482758\n",
            "--------------- Testing Score ---------------\n",
            "0.6703296703296703\n"
          ]
        }
      ]
    },
    {
      "cell_type": "code",
      "source": [
        "#bulding Decisiontreeclassifier\n",
        "dtc=DecisionTreeClassifier()\n",
        "dtc.fit(xc_train,yc_train)\n",
        "print('-'*15,'Training Score','-'*15)\n",
        "print(accuracy_score(yc_train,dtc.predict(xc_train)))\n",
        "print('-'*15,'Testing Score','-'*15)\n",
        "dtc_y_pred=dtc.predict(xc_test)\n",
        "dtc_test_score=accuracy_score(yc_test,dtc_y_pred)\n",
        "print(dtc_test_score)"
      ],
      "metadata": {
        "colab": {
          "base_uri": "https://localhost:8080/"
        },
        "id": "yUa8W6YWG-Ik",
        "outputId": "871ab880-aaef-4fc6-ba8c-2ae2e8660c6b"
      },
      "execution_count": 433,
      "outputs": [
        {
          "output_type": "stream",
          "name": "stdout",
          "text": [
            "--------------- Training Score ---------------\n",
            "1.0\n",
            "--------------- Testing Score ---------------\n",
            "0.6813186813186813\n"
          ]
        }
      ]
    },
    {
      "cell_type": "code",
      "source": [
        "#bulding RandomForestClassifier\n",
        "rfc=RandomForestClassifier()\n",
        "rfc.fit(xc_train,yc_train)\n",
        "print('-'*15,'Training Score','-'*15)\n",
        "print(accuracy_score(yc_train,rfc.predict(xc_train)))\n",
        "print('-'*15,'Testing Score','-'*15)\n",
        "rfc_y_pred=rfc.predict(xc_test)\n",
        "rfc_test_score=accuracy_score(yc_test,rfc_y_pred)\n",
        "print(rfc_test_score)"
      ],
      "metadata": {
        "colab": {
          "base_uri": "https://localhost:8080/"
        },
        "id": "DM8BPTa4G-LG",
        "outputId": "2d6c35da-40ae-4b39-ba6f-d412e8c77bd8"
      },
      "execution_count": 434,
      "outputs": [
        {
          "output_type": "stream",
          "name": "stdout",
          "text": [
            "--------------- Training Score ---------------\n",
            "1.0\n",
            "--------------- Testing Score ---------------\n",
            "0.7692307692307693\n"
          ]
        }
      ]
    },
    {
      "cell_type": "code",
      "source": [
        "#bulding AdboostClassifier\n",
        "adc=AdaBoostClassifier()\n",
        "adc.fit(xc_train,yc_train)\n",
        "print('-'*15,'Training Score','-'*15)\n",
        "print(accuracy_score(yc_train,adc.predict(xc_train)))\n",
        "print('-'*15,'Testing Score','-'*15)\n",
        "adc_y_pred=adc.predict(xc_test)\n",
        "adc_test_score=accuracy_score(yc_test,adc_y_pred)\n",
        "print(adc_test_score)"
      ],
      "metadata": {
        "colab": {
          "base_uri": "https://localhost:8080/"
        },
        "id": "HsBaenvnG-OX",
        "outputId": "017c6a1d-d8f7-4948-f080-3111d0e9e688"
      },
      "execution_count": 435,
      "outputs": [
        {
          "output_type": "stream",
          "name": "stdout",
          "text": [
            "--------------- Training Score ---------------\n",
            "0.5158620689655172\n",
            "--------------- Testing Score ---------------\n",
            "0.47802197802197804\n"
          ]
        }
      ]
    },
    {
      "cell_type": "code",
      "source": [
        "#bulding GradientBoostingClassifier\n",
        "gbc=GradientBoostingClassifier()\n",
        "gbc.fit(xc_train,yc_train)\n",
        "print('-'*15,'Training Score','-'*15)\n",
        "print(accuracy_score(yc_train,gbc.predict(xc_train)))\n",
        "print('-'*15,'Testing Score','-'*15)\n",
        "gbc_y_pred=gbc.predict(xc_test)\n",
        "gbc_test_score=accuracy_score(yc_test,gbc_y_pred)\n",
        "print(gbc_test_score)"
      ],
      "metadata": {
        "colab": {
          "base_uri": "https://localhost:8080/"
        },
        "id": "711FeAT6G-wK",
        "outputId": "35811752-573e-41ae-cf87-318450a30d11"
      },
      "execution_count": 436,
      "outputs": [
        {
          "output_type": "stream",
          "name": "stdout",
          "text": [
            "--------------- Training Score ---------------\n",
            "0.9972413793103448\n",
            "--------------- Testing Score ---------------\n",
            "0.7472527472527473\n"
          ]
        }
      ]
    },
    {
      "cell_type": "code",
      "source": [
        "#bulding xgbclassifier\n",
        "xgbc=XGBClassifier()\n",
        "xgbc.fit(xc_train,yc_train)\n",
        "print('-'*15,'Training Score','-'*15)\n",
        "print(accuracy_score(yc_train,xgbc.predict(xc_train)))\n",
        "print('-'*15,'Testing Score','-'*15)\n",
        "xgbc_y_pred=xgbc.predict(xc_test)\n",
        "xgbc_test_score=accuracy_score(yc_test,xgbc_y_pred)\n",
        "print(xgbc_test_score)"
      ],
      "metadata": {
        "colab": {
          "base_uri": "https://localhost:8080/"
        },
        "id": "L-pzH0d3G-zl",
        "outputId": "b397d68d-96a7-4b70-8389-94ba6a12dda7"
      },
      "execution_count": 437,
      "outputs": [
        {
          "output_type": "stream",
          "name": "stdout",
          "text": [
            "--------------- Training Score ---------------\n",
            "1.0\n",
            "--------------- Testing Score ---------------\n",
            "0.7197802197802198\n"
          ]
        }
      ]
    },
    {
      "cell_type": "markdown",
      "source": [
        "**Cross Validation**"
      ],
      "metadata": {
        "id": "UvJRbLvhPyTJ"
      }
    },
    {
      "cell_type": "code",
      "source": [
        "def cross_validation(ml_alg,x_train,y_train,test_scr,cv):\n",
        "  cvscr=cross_val_score(ml_alg,x_train,y_train,cv=cv)\n",
        "  print('\\n',cvscr,'\\n')\n",
        "  print('cv.mean',' '*10,'tesing score',' '*10,'difference',' '*10)\n",
        "  print(f'{round((cvscr.mean())*100,2)}               {round((test_scr)*100,2)}                   {round((cvscr.mean()- test_scr)*100,2)}')"
      ],
      "metadata": {
        "id": "7Qx8gcwDP1z2"
      },
      "execution_count": 438,
      "outputs": []
    },
    {
      "cell_type": "code",
      "source": [
        "#cross validatioin of Logisticregression\n",
        "cross_validation(LogisticRegression(),xc_train,yc_train,lrc_test_score,5)\n"
      ],
      "metadata": {
        "colab": {
          "base_uri": "https://localhost:8080/"
        },
        "id": "1lPs1o5IBs5G",
        "outputId": "e991ea2d-01cf-4524-c835-876c8dcd76d0"
      },
      "execution_count": 439,
      "outputs": [
        {
          "output_type": "stream",
          "name": "stdout",
          "text": [
            "\n",
            " [0.66896552 0.60689655 0.68275862 0.62758621 0.64137931] \n",
            "\n",
            "cv.mean            tesing score            difference           \n",
            "64.55               64.29                   0.27\n"
          ]
        }
      ]
    },
    {
      "cell_type": "code",
      "source": [
        "#cross validatioin of SVC\n",
        "cross_validation(SVC(),xc_train,yc_train,svc_test_score,5)\n"
      ],
      "metadata": {
        "colab": {
          "base_uri": "https://localhost:8080/"
        },
        "id": "yTYAObD3QKEL",
        "outputId": "572fe015-eb80-4261-e69b-52e89c3dea35"
      },
      "execution_count": 440,
      "outputs": [
        {
          "output_type": "stream",
          "name": "stdout",
          "text": [
            "\n",
            " [0.68275862 0.66206897 0.72413793 0.68275862 0.68965517] \n",
            "\n",
            "cv.mean            tesing score            difference           \n",
            "68.83               67.03                   1.79\n"
          ]
        }
      ]
    },
    {
      "cell_type": "code",
      "source": [
        "#cross validatioin of DecisiontreeClassifier\n",
        "cross_validation(DecisionTreeClassifier(),xc_train,yc_train,dtc_test_score,5)\n"
      ],
      "metadata": {
        "colab": {
          "base_uri": "https://localhost:8080/"
        },
        "id": "urn6ugFQQsJT",
        "outputId": "dd909976-8341-4b15-95e3-3a53536d5a66"
      },
      "execution_count": 441,
      "outputs": [
        {
          "output_type": "stream",
          "name": "stdout",
          "text": [
            "\n",
            " [0.73103448 0.75862069 0.73793103 0.73793103 0.74482759] \n",
            "\n",
            "cv.mean            tesing score            difference           \n",
            "74.21               68.13                   6.08\n"
          ]
        }
      ]
    },
    {
      "cell_type": "code",
      "source": [
        "#cross validatioin of Kneighborsclassifier\n",
        "cross_validation(KNeighborsClassifier(),xc_train,yc_train,knc_test_score,5)\n"
      ],
      "metadata": {
        "colab": {
          "base_uri": "https://localhost:8080/"
        },
        "id": "gpPp7Z-jQNRS",
        "outputId": "e1e3a6ca-04f9-4c0c-ee8b-b01325782ac4"
      },
      "execution_count": 442,
      "outputs": [
        {
          "output_type": "stream",
          "name": "stdout",
          "text": [
            "\n",
            " [0.76551724 0.73103448 0.7862069  0.75862069 0.8       ] \n",
            "\n",
            "cv.mean            tesing score            difference           \n",
            "76.83               71.43                   5.4\n"
          ]
        }
      ]
    },
    {
      "cell_type": "code",
      "source": [
        "#cross validatioin of Randomforestclassifier\n",
        "cross_validation(RandomForestClassifier(),xc_train,yc_train,rfc_test_score,5)"
      ],
      "metadata": {
        "colab": {
          "base_uri": "https://localhost:8080/"
        },
        "id": "QV8-QjzEQ37J",
        "outputId": "36fd89c5-d83d-409b-aa5c-37a2d33ae94c"
      },
      "execution_count": 443,
      "outputs": [
        {
          "output_type": "stream",
          "name": "stdout",
          "text": [
            "\n",
            " [0.77931034 0.7862069  0.8        0.82758621 0.77241379] \n",
            "\n",
            "cv.mean            tesing score            difference           \n",
            "79.31               76.92                   2.39\n"
          ]
        }
      ]
    },
    {
      "cell_type": "code",
      "source": [
        "#cross validatioin of GradientBoostingClassifier\n",
        "cross_validation(GradientBoostingClassifier(),xc_train,yc_train,gbc_test_score,5)"
      ],
      "metadata": {
        "colab": {
          "base_uri": "https://localhost:8080/"
        },
        "id": "ikDUVSe6RNO-",
        "outputId": "7a20bb7c-6738-4ad7-f34d-e7a7a933fae5"
      },
      "execution_count": 444,
      "outputs": [
        {
          "output_type": "stream",
          "name": "stdout",
          "text": [
            "\n",
            " [0.7862069  0.77241379 0.7862069  0.79310345 0.77931034] \n",
            "\n",
            "cv.mean            tesing score            difference           \n",
            "78.34               74.73                   3.62\n"
          ]
        }
      ]
    },
    {
      "cell_type": "code",
      "source": [
        "#cross validatioin of XGBClassifier\n",
        "cross_validation(XGBClassifier(),xc_train,yc_train,xgbc_test_score,5)"
      ],
      "metadata": {
        "colab": {
          "base_uri": "https://localhost:8080/"
        },
        "id": "nRZgH5nbRgXe",
        "outputId": "59ab9e58-e650-4a32-fb24-5b9cc2760704"
      },
      "execution_count": 445,
      "outputs": [
        {
          "output_type": "stream",
          "name": "stdout",
          "text": [
            "\n",
            " [0.75862069 0.79310345 0.7862069  0.8        0.77931034] \n",
            "\n",
            "cv.mean            tesing score            difference           \n",
            "78.34               71.98                   6.37\n"
          ]
        }
      ]
    },
    {
      "cell_type": "code",
      "source": [
        "#cross validatioin of AdaBoostClassifer\n",
        "cross_validation(AdaBoostClassifier(),xc_train,yc_train,adc_test_score,5)"
      ],
      "metadata": {
        "colab": {
          "base_uri": "https://localhost:8080/"
        },
        "id": "J4E02Hm4RBSm",
        "outputId": "42b6d3c1-e337-4b09-b4d6-f82eb4a725b1"
      },
      "execution_count": 446,
      "outputs": [
        {
          "output_type": "stream",
          "name": "stdout",
          "text": [
            "\n",
            " [0.42758621 0.43448276 0.52413793 0.42758621 0.52413793] \n",
            "\n",
            "cv.mean            tesing score            difference           \n",
            "46.76               47.8                   -1.04\n"
          ]
        }
      ]
    },
    {
      "cell_type": "markdown",
      "source": [
        "as per cv score and the difference between cv score and testing score xgbclassifier is perfect fit so i am training xgbclassifeir"
      ],
      "metadata": {
        "id": "c05k5tinnjL9"
      }
    },
    {
      "cell_type": "code",
      "source": [
        "param_grid = {\n",
        "    'learning_rate': [0.1, 0.01, 0.001],\n",
        "    'max_depth': [3, 4, 5],\n",
        "    'n_estimators': [100, 200, 300],}\n",
        "grid = GridSearchCV(estimator=XGBClassifier(), param_grid=param_grid, cv=5, scoring='accuracy')\n",
        "grid.fit(xc_train, yc_train)"
      ],
      "metadata": {
        "colab": {
          "base_uri": "https://localhost:8080/",
          "height": 117
        },
        "id": "K_00ICdWhovn",
        "outputId": "344b92fd-0912-4dd5-c1d4-e89aba79338a"
      },
      "execution_count": 447,
      "outputs": [
        {
          "output_type": "execute_result",
          "data": {
            "text/plain": [
              "GridSearchCV(cv=5,\n",
              "             estimator=XGBClassifier(base_score=None, booster=None,\n",
              "                                     callbacks=None, colsample_bylevel=None,\n",
              "                                     colsample_bynode=None,\n",
              "                                     colsample_bytree=None, device=None,\n",
              "                                     early_stopping_rounds=None,\n",
              "                                     enable_categorical=False, eval_metric=None,\n",
              "                                     feature_types=None, gamma=None,\n",
              "                                     grow_policy=None, importance_type=None,\n",
              "                                     interaction_constraints=None,\n",
              "                                     learning_rate=None,...\n",
              "                                     max_cat_threshold=None,\n",
              "                                     max_cat_to_onehot=None,\n",
              "                                     max_delta_step=None, max_depth=None,\n",
              "                                     max_leaves=None, min_child_weight=None,\n",
              "                                     missing=nan, monotone_constraints=None,\n",
              "                                     multi_strategy=None, n_estimators=None,\n",
              "                                     n_jobs=None, num_parallel_tree=None,\n",
              "                                     random_state=None, ...),\n",
              "             param_grid={'learning_rate': [0.1, 0.01, 0.001],\n",
              "                         'max_depth': [3, 4, 5],\n",
              "                         'n_estimators': [100, 200, 300]},\n",
              "             scoring='accuracy')"
            ],
            "text/html": [
              "<style>#sk-container-id-4 {color: black;background-color: white;}#sk-container-id-4 pre{padding: 0;}#sk-container-id-4 div.sk-toggleable {background-color: white;}#sk-container-id-4 label.sk-toggleable__label {cursor: pointer;display: block;width: 100%;margin-bottom: 0;padding: 0.3em;box-sizing: border-box;text-align: center;}#sk-container-id-4 label.sk-toggleable__label-arrow:before {content: \"▸\";float: left;margin-right: 0.25em;color: #696969;}#sk-container-id-4 label.sk-toggleable__label-arrow:hover:before {color: black;}#sk-container-id-4 div.sk-estimator:hover label.sk-toggleable__label-arrow:before {color: black;}#sk-container-id-4 div.sk-toggleable__content {max-height: 0;max-width: 0;overflow: hidden;text-align: left;background-color: #f0f8ff;}#sk-container-id-4 div.sk-toggleable__content pre {margin: 0.2em;color: black;border-radius: 0.25em;background-color: #f0f8ff;}#sk-container-id-4 input.sk-toggleable__control:checked~div.sk-toggleable__content {max-height: 200px;max-width: 100%;overflow: auto;}#sk-container-id-4 input.sk-toggleable__control:checked~label.sk-toggleable__label-arrow:before {content: \"▾\";}#sk-container-id-4 div.sk-estimator input.sk-toggleable__control:checked~label.sk-toggleable__label {background-color: #d4ebff;}#sk-container-id-4 div.sk-label input.sk-toggleable__control:checked~label.sk-toggleable__label {background-color: #d4ebff;}#sk-container-id-4 input.sk-hidden--visually {border: 0;clip: rect(1px 1px 1px 1px);clip: rect(1px, 1px, 1px, 1px);height: 1px;margin: -1px;overflow: hidden;padding: 0;position: absolute;width: 1px;}#sk-container-id-4 div.sk-estimator {font-family: monospace;background-color: #f0f8ff;border: 1px dotted black;border-radius: 0.25em;box-sizing: border-box;margin-bottom: 0.5em;}#sk-container-id-4 div.sk-estimator:hover {background-color: #d4ebff;}#sk-container-id-4 div.sk-parallel-item::after {content: \"\";width: 100%;border-bottom: 1px solid gray;flex-grow: 1;}#sk-container-id-4 div.sk-label:hover label.sk-toggleable__label {background-color: #d4ebff;}#sk-container-id-4 div.sk-serial::before {content: \"\";position: absolute;border-left: 1px solid gray;box-sizing: border-box;top: 0;bottom: 0;left: 50%;z-index: 0;}#sk-container-id-4 div.sk-serial {display: flex;flex-direction: column;align-items: center;background-color: white;padding-right: 0.2em;padding-left: 0.2em;position: relative;}#sk-container-id-4 div.sk-item {position: relative;z-index: 1;}#sk-container-id-4 div.sk-parallel {display: flex;align-items: stretch;justify-content: center;background-color: white;position: relative;}#sk-container-id-4 div.sk-item::before, #sk-container-id-4 div.sk-parallel-item::before {content: \"\";position: absolute;border-left: 1px solid gray;box-sizing: border-box;top: 0;bottom: 0;left: 50%;z-index: -1;}#sk-container-id-4 div.sk-parallel-item {display: flex;flex-direction: column;z-index: 1;position: relative;background-color: white;}#sk-container-id-4 div.sk-parallel-item:first-child::after {align-self: flex-end;width: 50%;}#sk-container-id-4 div.sk-parallel-item:last-child::after {align-self: flex-start;width: 50%;}#sk-container-id-4 div.sk-parallel-item:only-child::after {width: 0;}#sk-container-id-4 div.sk-dashed-wrapped {border: 1px dashed gray;margin: 0 0.4em 0.5em 0.4em;box-sizing: border-box;padding-bottom: 0.4em;background-color: white;}#sk-container-id-4 div.sk-label label {font-family: monospace;font-weight: bold;display: inline-block;line-height: 1.2em;}#sk-container-id-4 div.sk-label-container {text-align: center;}#sk-container-id-4 div.sk-container {/* jupyter's `normalize.less` sets `[hidden] { display: none; }` but bootstrap.min.css set `[hidden] { display: none !important; }` so we also need the `!important` here to be able to override the default hidden behavior on the sphinx rendered scikit-learn.org. See: https://github.com/scikit-learn/scikit-learn/issues/21755 */display: inline-block !important;position: relative;}#sk-container-id-4 div.sk-text-repr-fallback {display: none;}</style><div id=\"sk-container-id-4\" class=\"sk-top-container\"><div class=\"sk-text-repr-fallback\"><pre>GridSearchCV(cv=5,\n",
              "             estimator=XGBClassifier(base_score=None, booster=None,\n",
              "                                     callbacks=None, colsample_bylevel=None,\n",
              "                                     colsample_bynode=None,\n",
              "                                     colsample_bytree=None, device=None,\n",
              "                                     early_stopping_rounds=None,\n",
              "                                     enable_categorical=False, eval_metric=None,\n",
              "                                     feature_types=None, gamma=None,\n",
              "                                     grow_policy=None, importance_type=None,\n",
              "                                     interaction_constraints=None,\n",
              "                                     learning_rate=None,...\n",
              "                                     max_cat_threshold=None,\n",
              "                                     max_cat_to_onehot=None,\n",
              "                                     max_delta_step=None, max_depth=None,\n",
              "                                     max_leaves=None, min_child_weight=None,\n",
              "                                     missing=nan, monotone_constraints=None,\n",
              "                                     multi_strategy=None, n_estimators=None,\n",
              "                                     n_jobs=None, num_parallel_tree=None,\n",
              "                                     random_state=None, ...),\n",
              "             param_grid={&#x27;learning_rate&#x27;: [0.1, 0.01, 0.001],\n",
              "                         &#x27;max_depth&#x27;: [3, 4, 5],\n",
              "                         &#x27;n_estimators&#x27;: [100, 200, 300]},\n",
              "             scoring=&#x27;accuracy&#x27;)</pre><b>In a Jupyter environment, please rerun this cell to show the HTML representation or trust the notebook. <br />On GitHub, the HTML representation is unable to render, please try loading this page with nbviewer.org.</b></div><div class=\"sk-container\" hidden><div class=\"sk-item sk-dashed-wrapped\"><div class=\"sk-label-container\"><div class=\"sk-label sk-toggleable\"><input class=\"sk-toggleable__control sk-hidden--visually\" id=\"sk-estimator-id-8\" type=\"checkbox\" ><label for=\"sk-estimator-id-8\" class=\"sk-toggleable__label sk-toggleable__label-arrow\">GridSearchCV</label><div class=\"sk-toggleable__content\"><pre>GridSearchCV(cv=5,\n",
              "             estimator=XGBClassifier(base_score=None, booster=None,\n",
              "                                     callbacks=None, colsample_bylevel=None,\n",
              "                                     colsample_bynode=None,\n",
              "                                     colsample_bytree=None, device=None,\n",
              "                                     early_stopping_rounds=None,\n",
              "                                     enable_categorical=False, eval_metric=None,\n",
              "                                     feature_types=None, gamma=None,\n",
              "                                     grow_policy=None, importance_type=None,\n",
              "                                     interaction_constraints=None,\n",
              "                                     learning_rate=None,...\n",
              "                                     max_cat_threshold=None,\n",
              "                                     max_cat_to_onehot=None,\n",
              "                                     max_delta_step=None, max_depth=None,\n",
              "                                     max_leaves=None, min_child_weight=None,\n",
              "                                     missing=nan, monotone_constraints=None,\n",
              "                                     multi_strategy=None, n_estimators=None,\n",
              "                                     n_jobs=None, num_parallel_tree=None,\n",
              "                                     random_state=None, ...),\n",
              "             param_grid={&#x27;learning_rate&#x27;: [0.1, 0.01, 0.001],\n",
              "                         &#x27;max_depth&#x27;: [3, 4, 5],\n",
              "                         &#x27;n_estimators&#x27;: [100, 200, 300]},\n",
              "             scoring=&#x27;accuracy&#x27;)</pre></div></div></div><div class=\"sk-parallel\"><div class=\"sk-parallel-item\"><div class=\"sk-item\"><div class=\"sk-label-container\"><div class=\"sk-label sk-toggleable\"><input class=\"sk-toggleable__control sk-hidden--visually\" id=\"sk-estimator-id-9\" type=\"checkbox\" ><label for=\"sk-estimator-id-9\" class=\"sk-toggleable__label sk-toggleable__label-arrow\">estimator: XGBClassifier</label><div class=\"sk-toggleable__content\"><pre>XGBClassifier(base_score=None, booster=None, callbacks=None,\n",
              "              colsample_bylevel=None, colsample_bynode=None,\n",
              "              colsample_bytree=None, device=None, early_stopping_rounds=None,\n",
              "              enable_categorical=False, eval_metric=None, feature_types=None,\n",
              "              gamma=None, grow_policy=None, importance_type=None,\n",
              "              interaction_constraints=None, learning_rate=None, max_bin=None,\n",
              "              max_cat_threshold=None, max_cat_to_onehot=None,\n",
              "              max_delta_step=None, max_depth=None, max_leaves=None,\n",
              "              min_child_weight=None, missing=nan, monotone_constraints=None,\n",
              "              multi_strategy=None, n_estimators=None, n_jobs=None,\n",
              "              num_parallel_tree=None, random_state=None, ...)</pre></div></div></div><div class=\"sk-serial\"><div class=\"sk-item\"><div class=\"sk-estimator sk-toggleable\"><input class=\"sk-toggleable__control sk-hidden--visually\" id=\"sk-estimator-id-10\" type=\"checkbox\" ><label for=\"sk-estimator-id-10\" class=\"sk-toggleable__label sk-toggleable__label-arrow\">XGBClassifier</label><div class=\"sk-toggleable__content\"><pre>XGBClassifier(base_score=None, booster=None, callbacks=None,\n",
              "              colsample_bylevel=None, colsample_bynode=None,\n",
              "              colsample_bytree=None, device=None, early_stopping_rounds=None,\n",
              "              enable_categorical=False, eval_metric=None, feature_types=None,\n",
              "              gamma=None, grow_policy=None, importance_type=None,\n",
              "              interaction_constraints=None, learning_rate=None, max_bin=None,\n",
              "              max_cat_threshold=None, max_cat_to_onehot=None,\n",
              "              max_delta_step=None, max_depth=None, max_leaves=None,\n",
              "              min_child_weight=None, missing=nan, monotone_constraints=None,\n",
              "              multi_strategy=None, n_estimators=None, n_jobs=None,\n",
              "              num_parallel_tree=None, random_state=None, ...)</pre></div></div></div></div></div></div></div></div></div></div>"
            ]
          },
          "metadata": {},
          "execution_count": 447
        }
      ]
    },
    {
      "cell_type": "code",
      "source": [
        "grid.best_params_"
      ],
      "metadata": {
        "colab": {
          "base_uri": "https://localhost:8080/"
        },
        "id": "QIeKKNZZu9p6",
        "outputId": "69d1a370-f097-4559-c2ad-fd1515b6d4c3"
      },
      "execution_count": 448,
      "outputs": [
        {
          "output_type": "execute_result",
          "data": {
            "text/plain": [
              "{'learning_rate': 0.01, 'max_depth': 4, 'n_estimators': 300}"
            ]
          },
          "metadata": {},
          "execution_count": 448
        }
      ]
    },
    {
      "cell_type": "code",
      "source": [
        "#bulding tuinned xgbclassifier\n",
        "tunned_xgb=XGBClassifier(learning_rate=0.01,max_depth=4,n_estimators=200)\n",
        "tunned_xgb.fit(xc_train,yc_train)\n",
        "print('-'*15,'Training Score','-'*15)\n",
        "print(accuracy_score(yc_train,tunned_xgb.predict(xc_train)))\n",
        "print('-'*15,'Testing Score','-'*15)\n",
        "tunned_xgb_y_pred=tunned_xgb.predict(xc_test)\n",
        "tunned_xgb_test_score=accuracy_score(yc_test,tunned_xgb_y_pred)\n",
        "print(tunned_xgb_test_score)"
      ],
      "metadata": {
        "colab": {
          "base_uri": "https://localhost:8080/"
        },
        "id": "MPRJco0qu_sq",
        "outputId": "7dfadd70-87ff-410d-e0ec-32e958359afe"
      },
      "execution_count": 449,
      "outputs": [
        {
          "output_type": "stream",
          "name": "stdout",
          "text": [
            "--------------- Training Score ---------------\n",
            "0.856551724137931\n",
            "--------------- Testing Score ---------------\n",
            "0.7527472527472527\n"
          ]
        }
      ]
    },
    {
      "cell_type": "code",
      "source": [
        "#model saaving\n",
        "pkl.dump(tunned_xgb,open('fuel_pred_xgb.sav','wb'))"
      ],
      "metadata": {
        "id": "CZphU0k5v9kD"
      },
      "execution_count": 450,
      "outputs": []
    },
    {
      "cell_type": "code",
      "source": [
        "#loading model\n",
        "model_c=pkl.load(open('fuel_pred_xgb.sav','rb'))"
      ],
      "metadata": {
        "id": "DueYCe7xwMOC"
      },
      "execution_count": 547,
      "outputs": []
    },
    {
      "cell_type": "code",
      "source": [
        "cmp_df_c=pd.DataFrame()\n",
        "cmp_df_c['primary_fuel']=yc_test\n",
        "cmp_df_c['pred_primary_fuel']=model_c.predict(xc_test)\n",
        "cmp_df_c.head(50)"
      ],
      "metadata": {
        "colab": {
          "base_uri": "https://localhost:8080/",
          "height": 1000
        },
        "id": "MTs21u1MB0Cr",
        "outputId": "a6c5ad3e-a259-4a52-a41d-7490cae15032"
      },
      "execution_count": 550,
      "outputs": [
        {
          "output_type": "execute_result",
          "data": {
            "text/plain": [
              "     primary_fuel  pred_primary_fuel\n",
              "63              1                  3\n",
              "126             7                  7\n",
              "219             3                  3\n",
              "266             7                  7\n",
              "547             3                  3\n",
              "562             7                  7\n",
              "455             1                  1\n",
              "597             1                  1\n",
              "882             3                  1\n",
              "420             5                  5\n",
              "131             6                  6\n",
              "86              3                  3\n",
              "350             1                  1\n",
              "785             1                  1\n",
              "124             7                  7\n",
              "427             3                  3\n",
              "22              2                  1\n",
              "439             7                  7\n",
              "134             3                  1\n",
              "401             6                  6\n",
              "853             3                  3\n",
              "247             6                  6\n",
              "633             0                  0\n",
              "804             5                  1\n",
              "3               2                  3\n",
              "332             1                  5\n",
              "788             1                  1\n",
              "78              3                  1\n",
              "143             1                  1\n",
              "507             7                  7\n",
              "333             2                  1\n",
              "584             3                  3\n",
              "653             1                  1\n",
              "784             3                  3\n",
              "874             0                  1\n",
              "902             1                  1\n",
              "174             2                  3\n",
              "321             0                  0\n",
              "50              1                  3\n",
              "370             3                  3\n",
              "230             1                  0\n",
              "46              3                  1\n",
              "382             3                  3\n",
              "308             1                  1\n",
              "669             6                  6\n",
              "74              1                  0\n",
              "828             7                  7\n",
              "502             6                  7\n",
              "84              1                  1\n",
              "154             6                  6"
            ],
            "text/html": [
              "\n",
              "  <div id=\"df-529a8a2e-0221-4458-8a9c-081ef50267a5\" class=\"colab-df-container\">\n",
              "    <div>\n",
              "<style scoped>\n",
              "    .dataframe tbody tr th:only-of-type {\n",
              "        vertical-align: middle;\n",
              "    }\n",
              "\n",
              "    .dataframe tbody tr th {\n",
              "        vertical-align: top;\n",
              "    }\n",
              "\n",
              "    .dataframe thead th {\n",
              "        text-align: right;\n",
              "    }\n",
              "</style>\n",
              "<table border=\"1\" class=\"dataframe\">\n",
              "  <thead>\n",
              "    <tr style=\"text-align: right;\">\n",
              "      <th></th>\n",
              "      <th>primary_fuel</th>\n",
              "      <th>pred_primary_fuel</th>\n",
              "    </tr>\n",
              "  </thead>\n",
              "  <tbody>\n",
              "    <tr>\n",
              "      <th>63</th>\n",
              "      <td>1</td>\n",
              "      <td>3</td>\n",
              "    </tr>\n",
              "    <tr>\n",
              "      <th>126</th>\n",
              "      <td>7</td>\n",
              "      <td>7</td>\n",
              "    </tr>\n",
              "    <tr>\n",
              "      <th>219</th>\n",
              "      <td>3</td>\n",
              "      <td>3</td>\n",
              "    </tr>\n",
              "    <tr>\n",
              "      <th>266</th>\n",
              "      <td>7</td>\n",
              "      <td>7</td>\n",
              "    </tr>\n",
              "    <tr>\n",
              "      <th>547</th>\n",
              "      <td>3</td>\n",
              "      <td>3</td>\n",
              "    </tr>\n",
              "    <tr>\n",
              "      <th>562</th>\n",
              "      <td>7</td>\n",
              "      <td>7</td>\n",
              "    </tr>\n",
              "    <tr>\n",
              "      <th>455</th>\n",
              "      <td>1</td>\n",
              "      <td>1</td>\n",
              "    </tr>\n",
              "    <tr>\n",
              "      <th>597</th>\n",
              "      <td>1</td>\n",
              "      <td>1</td>\n",
              "    </tr>\n",
              "    <tr>\n",
              "      <th>882</th>\n",
              "      <td>3</td>\n",
              "      <td>1</td>\n",
              "    </tr>\n",
              "    <tr>\n",
              "      <th>420</th>\n",
              "      <td>5</td>\n",
              "      <td>5</td>\n",
              "    </tr>\n",
              "    <tr>\n",
              "      <th>131</th>\n",
              "      <td>6</td>\n",
              "      <td>6</td>\n",
              "    </tr>\n",
              "    <tr>\n",
              "      <th>86</th>\n",
              "      <td>3</td>\n",
              "      <td>3</td>\n",
              "    </tr>\n",
              "    <tr>\n",
              "      <th>350</th>\n",
              "      <td>1</td>\n",
              "      <td>1</td>\n",
              "    </tr>\n",
              "    <tr>\n",
              "      <th>785</th>\n",
              "      <td>1</td>\n",
              "      <td>1</td>\n",
              "    </tr>\n",
              "    <tr>\n",
              "      <th>124</th>\n",
              "      <td>7</td>\n",
              "      <td>7</td>\n",
              "    </tr>\n",
              "    <tr>\n",
              "      <th>427</th>\n",
              "      <td>3</td>\n",
              "      <td>3</td>\n",
              "    </tr>\n",
              "    <tr>\n",
              "      <th>22</th>\n",
              "      <td>2</td>\n",
              "      <td>1</td>\n",
              "    </tr>\n",
              "    <tr>\n",
              "      <th>439</th>\n",
              "      <td>7</td>\n",
              "      <td>7</td>\n",
              "    </tr>\n",
              "    <tr>\n",
              "      <th>134</th>\n",
              "      <td>3</td>\n",
              "      <td>1</td>\n",
              "    </tr>\n",
              "    <tr>\n",
              "      <th>401</th>\n",
              "      <td>6</td>\n",
              "      <td>6</td>\n",
              "    </tr>\n",
              "    <tr>\n",
              "      <th>853</th>\n",
              "      <td>3</td>\n",
              "      <td>3</td>\n",
              "    </tr>\n",
              "    <tr>\n",
              "      <th>247</th>\n",
              "      <td>6</td>\n",
              "      <td>6</td>\n",
              "    </tr>\n",
              "    <tr>\n",
              "      <th>633</th>\n",
              "      <td>0</td>\n",
              "      <td>0</td>\n",
              "    </tr>\n",
              "    <tr>\n",
              "      <th>804</th>\n",
              "      <td>5</td>\n",
              "      <td>1</td>\n",
              "    </tr>\n",
              "    <tr>\n",
              "      <th>3</th>\n",
              "      <td>2</td>\n",
              "      <td>3</td>\n",
              "    </tr>\n",
              "    <tr>\n",
              "      <th>332</th>\n",
              "      <td>1</td>\n",
              "      <td>5</td>\n",
              "    </tr>\n",
              "    <tr>\n",
              "      <th>788</th>\n",
              "      <td>1</td>\n",
              "      <td>1</td>\n",
              "    </tr>\n",
              "    <tr>\n",
              "      <th>78</th>\n",
              "      <td>3</td>\n",
              "      <td>1</td>\n",
              "    </tr>\n",
              "    <tr>\n",
              "      <th>143</th>\n",
              "      <td>1</td>\n",
              "      <td>1</td>\n",
              "    </tr>\n",
              "    <tr>\n",
              "      <th>507</th>\n",
              "      <td>7</td>\n",
              "      <td>7</td>\n",
              "    </tr>\n",
              "    <tr>\n",
              "      <th>333</th>\n",
              "      <td>2</td>\n",
              "      <td>1</td>\n",
              "    </tr>\n",
              "    <tr>\n",
              "      <th>584</th>\n",
              "      <td>3</td>\n",
              "      <td>3</td>\n",
              "    </tr>\n",
              "    <tr>\n",
              "      <th>653</th>\n",
              "      <td>1</td>\n",
              "      <td>1</td>\n",
              "    </tr>\n",
              "    <tr>\n",
              "      <th>784</th>\n",
              "      <td>3</td>\n",
              "      <td>3</td>\n",
              "    </tr>\n",
              "    <tr>\n",
              "      <th>874</th>\n",
              "      <td>0</td>\n",
              "      <td>1</td>\n",
              "    </tr>\n",
              "    <tr>\n",
              "      <th>902</th>\n",
              "      <td>1</td>\n",
              "      <td>1</td>\n",
              "    </tr>\n",
              "    <tr>\n",
              "      <th>174</th>\n",
              "      <td>2</td>\n",
              "      <td>3</td>\n",
              "    </tr>\n",
              "    <tr>\n",
              "      <th>321</th>\n",
              "      <td>0</td>\n",
              "      <td>0</td>\n",
              "    </tr>\n",
              "    <tr>\n",
              "      <th>50</th>\n",
              "      <td>1</td>\n",
              "      <td>3</td>\n",
              "    </tr>\n",
              "    <tr>\n",
              "      <th>370</th>\n",
              "      <td>3</td>\n",
              "      <td>3</td>\n",
              "    </tr>\n",
              "    <tr>\n",
              "      <th>230</th>\n",
              "      <td>1</td>\n",
              "      <td>0</td>\n",
              "    </tr>\n",
              "    <tr>\n",
              "      <th>46</th>\n",
              "      <td>3</td>\n",
              "      <td>1</td>\n",
              "    </tr>\n",
              "    <tr>\n",
              "      <th>382</th>\n",
              "      <td>3</td>\n",
              "      <td>3</td>\n",
              "    </tr>\n",
              "    <tr>\n",
              "      <th>308</th>\n",
              "      <td>1</td>\n",
              "      <td>1</td>\n",
              "    </tr>\n",
              "    <tr>\n",
              "      <th>669</th>\n",
              "      <td>6</td>\n",
              "      <td>6</td>\n",
              "    </tr>\n",
              "    <tr>\n",
              "      <th>74</th>\n",
              "      <td>1</td>\n",
              "      <td>0</td>\n",
              "    </tr>\n",
              "    <tr>\n",
              "      <th>828</th>\n",
              "      <td>7</td>\n",
              "      <td>7</td>\n",
              "    </tr>\n",
              "    <tr>\n",
              "      <th>502</th>\n",
              "      <td>6</td>\n",
              "      <td>7</td>\n",
              "    </tr>\n",
              "    <tr>\n",
              "      <th>84</th>\n",
              "      <td>1</td>\n",
              "      <td>1</td>\n",
              "    </tr>\n",
              "    <tr>\n",
              "      <th>154</th>\n",
              "      <td>6</td>\n",
              "      <td>6</td>\n",
              "    </tr>\n",
              "  </tbody>\n",
              "</table>\n",
              "</div>\n",
              "    <div class=\"colab-df-buttons\">\n",
              "\n",
              "  <div class=\"colab-df-container\">\n",
              "    <button class=\"colab-df-convert\" onclick=\"convertToInteractive('df-529a8a2e-0221-4458-8a9c-081ef50267a5')\"\n",
              "            title=\"Convert this dataframe to an interactive table.\"\n",
              "            style=\"display:none;\">\n",
              "\n",
              "  <svg xmlns=\"http://www.w3.org/2000/svg\" height=\"24px\" viewBox=\"0 -960 960 960\">\n",
              "    <path d=\"M120-120v-720h720v720H120Zm60-500h600v-160H180v160Zm220 220h160v-160H400v160Zm0 220h160v-160H400v160ZM180-400h160v-160H180v160Zm440 0h160v-160H620v160ZM180-180h160v-160H180v160Zm440 0h160v-160H620v160Z\"/>\n",
              "  </svg>\n",
              "    </button>\n",
              "\n",
              "  <style>\n",
              "    .colab-df-container {\n",
              "      display:flex;\n",
              "      gap: 12px;\n",
              "    }\n",
              "\n",
              "    .colab-df-convert {\n",
              "      background-color: #E8F0FE;\n",
              "      border: none;\n",
              "      border-radius: 50%;\n",
              "      cursor: pointer;\n",
              "      display: none;\n",
              "      fill: #1967D2;\n",
              "      height: 32px;\n",
              "      padding: 0 0 0 0;\n",
              "      width: 32px;\n",
              "    }\n",
              "\n",
              "    .colab-df-convert:hover {\n",
              "      background-color: #E2EBFA;\n",
              "      box-shadow: 0px 1px 2px rgba(60, 64, 67, 0.3), 0px 1px 3px 1px rgba(60, 64, 67, 0.15);\n",
              "      fill: #174EA6;\n",
              "    }\n",
              "\n",
              "    .colab-df-buttons div {\n",
              "      margin-bottom: 4px;\n",
              "    }\n",
              "\n",
              "    [theme=dark] .colab-df-convert {\n",
              "      background-color: #3B4455;\n",
              "      fill: #D2E3FC;\n",
              "    }\n",
              "\n",
              "    [theme=dark] .colab-df-convert:hover {\n",
              "      background-color: #434B5C;\n",
              "      box-shadow: 0px 1px 3px 1px rgba(0, 0, 0, 0.15);\n",
              "      filter: drop-shadow(0px 1px 2px rgba(0, 0, 0, 0.3));\n",
              "      fill: #FFFFFF;\n",
              "    }\n",
              "  </style>\n",
              "\n",
              "    <script>\n",
              "      const buttonEl =\n",
              "        document.querySelector('#df-529a8a2e-0221-4458-8a9c-081ef50267a5 button.colab-df-convert');\n",
              "      buttonEl.style.display =\n",
              "        google.colab.kernel.accessAllowed ? 'block' : 'none';\n",
              "\n",
              "      async function convertToInteractive(key) {\n",
              "        const element = document.querySelector('#df-529a8a2e-0221-4458-8a9c-081ef50267a5');\n",
              "        const dataTable =\n",
              "          await google.colab.kernel.invokeFunction('convertToInteractive',\n",
              "                                                    [key], {});\n",
              "        if (!dataTable) return;\n",
              "\n",
              "        const docLinkHtml = 'Like what you see? Visit the ' +\n",
              "          '<a target=\"_blank\" href=https://colab.research.google.com/notebooks/data_table.ipynb>data table notebook</a>'\n",
              "          + ' to learn more about interactive tables.';\n",
              "        element.innerHTML = '';\n",
              "        dataTable['output_type'] = 'display_data';\n",
              "        await google.colab.output.renderOutput(dataTable, element);\n",
              "        const docLink = document.createElement('div');\n",
              "        docLink.innerHTML = docLinkHtml;\n",
              "        element.appendChild(docLink);\n",
              "      }\n",
              "    </script>\n",
              "  </div>\n",
              "\n",
              "\n",
              "<div id=\"df-a507affe-edac-4247-9eaa-59da7108b406\">\n",
              "  <button class=\"colab-df-quickchart\" onclick=\"quickchart('df-a507affe-edac-4247-9eaa-59da7108b406')\"\n",
              "            title=\"Suggest charts\"\n",
              "            style=\"display:none;\">\n",
              "\n",
              "<svg xmlns=\"http://www.w3.org/2000/svg\" height=\"24px\"viewBox=\"0 0 24 24\"\n",
              "     width=\"24px\">\n",
              "    <g>\n",
              "        <path d=\"M19 3H5c-1.1 0-2 .9-2 2v14c0 1.1.9 2 2 2h14c1.1 0 2-.9 2-2V5c0-1.1-.9-2-2-2zM9 17H7v-7h2v7zm4 0h-2V7h2v10zm4 0h-2v-4h2v4z\"/>\n",
              "    </g>\n",
              "</svg>\n",
              "  </button>\n",
              "\n",
              "<style>\n",
              "  .colab-df-quickchart {\n",
              "      --bg-color: #E8F0FE;\n",
              "      --fill-color: #1967D2;\n",
              "      --hover-bg-color: #E2EBFA;\n",
              "      --hover-fill-color: #174EA6;\n",
              "      --disabled-fill-color: #AAA;\n",
              "      --disabled-bg-color: #DDD;\n",
              "  }\n",
              "\n",
              "  [theme=dark] .colab-df-quickchart {\n",
              "      --bg-color: #3B4455;\n",
              "      --fill-color: #D2E3FC;\n",
              "      --hover-bg-color: #434B5C;\n",
              "      --hover-fill-color: #FFFFFF;\n",
              "      --disabled-bg-color: #3B4455;\n",
              "      --disabled-fill-color: #666;\n",
              "  }\n",
              "\n",
              "  .colab-df-quickchart {\n",
              "    background-color: var(--bg-color);\n",
              "    border: none;\n",
              "    border-radius: 50%;\n",
              "    cursor: pointer;\n",
              "    display: none;\n",
              "    fill: var(--fill-color);\n",
              "    height: 32px;\n",
              "    padding: 0;\n",
              "    width: 32px;\n",
              "  }\n",
              "\n",
              "  .colab-df-quickchart:hover {\n",
              "    background-color: var(--hover-bg-color);\n",
              "    box-shadow: 0 1px 2px rgba(60, 64, 67, 0.3), 0 1px 3px 1px rgba(60, 64, 67, 0.15);\n",
              "    fill: var(--button-hover-fill-color);\n",
              "  }\n",
              "\n",
              "  .colab-df-quickchart-complete:disabled,\n",
              "  .colab-df-quickchart-complete:disabled:hover {\n",
              "    background-color: var(--disabled-bg-color);\n",
              "    fill: var(--disabled-fill-color);\n",
              "    box-shadow: none;\n",
              "  }\n",
              "\n",
              "  .colab-df-spinner {\n",
              "    border: 2px solid var(--fill-color);\n",
              "    border-color: transparent;\n",
              "    border-bottom-color: var(--fill-color);\n",
              "    animation:\n",
              "      spin 1s steps(1) infinite;\n",
              "  }\n",
              "\n",
              "  @keyframes spin {\n",
              "    0% {\n",
              "      border-color: transparent;\n",
              "      border-bottom-color: var(--fill-color);\n",
              "      border-left-color: var(--fill-color);\n",
              "    }\n",
              "    20% {\n",
              "      border-color: transparent;\n",
              "      border-left-color: var(--fill-color);\n",
              "      border-top-color: var(--fill-color);\n",
              "    }\n",
              "    30% {\n",
              "      border-color: transparent;\n",
              "      border-left-color: var(--fill-color);\n",
              "      border-top-color: var(--fill-color);\n",
              "      border-right-color: var(--fill-color);\n",
              "    }\n",
              "    40% {\n",
              "      border-color: transparent;\n",
              "      border-right-color: var(--fill-color);\n",
              "      border-top-color: var(--fill-color);\n",
              "    }\n",
              "    60% {\n",
              "      border-color: transparent;\n",
              "      border-right-color: var(--fill-color);\n",
              "    }\n",
              "    80% {\n",
              "      border-color: transparent;\n",
              "      border-right-color: var(--fill-color);\n",
              "      border-bottom-color: var(--fill-color);\n",
              "    }\n",
              "    90% {\n",
              "      border-color: transparent;\n",
              "      border-bottom-color: var(--fill-color);\n",
              "    }\n",
              "  }\n",
              "</style>\n",
              "\n",
              "  <script>\n",
              "    async function quickchart(key) {\n",
              "      const quickchartButtonEl =\n",
              "        document.querySelector('#' + key + ' button');\n",
              "      quickchartButtonEl.disabled = true;  // To prevent multiple clicks.\n",
              "      quickchartButtonEl.classList.add('colab-df-spinner');\n",
              "      try {\n",
              "        const charts = await google.colab.kernel.invokeFunction(\n",
              "            'suggestCharts', [key], {});\n",
              "      } catch (error) {\n",
              "        console.error('Error during call to suggestCharts:', error);\n",
              "      }\n",
              "      quickchartButtonEl.classList.remove('colab-df-spinner');\n",
              "      quickchartButtonEl.classList.add('colab-df-quickchart-complete');\n",
              "    }\n",
              "    (() => {\n",
              "      let quickchartButtonEl =\n",
              "        document.querySelector('#df-a507affe-edac-4247-9eaa-59da7108b406 button');\n",
              "      quickchartButtonEl.style.display =\n",
              "        google.colab.kernel.accessAllowed ? 'block' : 'none';\n",
              "    })();\n",
              "  </script>\n",
              "</div>\n",
              "    </div>\n",
              "  </div>\n"
            ]
          },
          "metadata": {},
          "execution_count": 550
        }
      ]
    },
    {
      "cell_type": "code",
      "source": [
        "accuracy_score(yc_test,model_c.predict(xc_test))"
      ],
      "metadata": {
        "colab": {
          "base_uri": "https://localhost:8080/"
        },
        "id": "WV6BmBPiCH1G",
        "outputId": "a78643d4-9555-48b1-d0ec-38170674685b"
      },
      "execution_count": 551,
      "outputs": [
        {
          "output_type": "execute_result",
          "data": {
            "text/plain": [
              "0.7527472527472527"
            ]
          },
          "metadata": {},
          "execution_count": 551
        }
      ]
    },
    {
      "cell_type": "code",
      "source": [],
      "metadata": {
        "id": "jzTyZu89CXER"
      },
      "execution_count": null,
      "outputs": []
    }
  ]
}